{
 "cells": [
  {
   "cell_type": "markdown",
   "id": "cb6d2f61",
   "metadata": {},
   "source": [
    "# Creating a Stress Detection Tool using Data From Subreddits: Pre-Processing"
   ]
  },
  {
   "cell_type": "markdown",
   "id": "dfce10cf",
   "metadata": {},
   "source": [
    "In this notebook I will be creating two train/test sets using two different vectorizers.  The first vectorizer I will be using is the Count vectorizer.  As its name implies, this vectorizer counts the occurences of each word and the more frequently a word occurs, the more statistically significant it identifies it as.  The second vectorizer I will be using is tf-idf, or term frequency - inverse document frequency.  Like the Count vectorizer, tf-idf also counts the frequency of the words, but tf-idf also calculates a value for how significant each word based on additional factors."
   ]
  },
  {
   "cell_type": "markdown",
   "id": "b86f69f2",
   "metadata": {},
   "source": [
    "#### Import necessary libraries"
   ]
  },
  {
   "cell_type": "code",
   "execution_count": 1,
   "id": "132924ac",
   "metadata": {},
   "outputs": [],
   "source": [
    "import pandas as pd\n",
    "import numpy as np\n",
    "\n",
    "from sklearn.feature_extraction.text import CountVectorizer, TfidfVectorizer\n",
    "\n",
    "from sklearn.model_selection import train_test_split\n",
    "\n",
    "import pickle"
   ]
  },
  {
   "cell_type": "code",
   "execution_count": 2,
   "id": "65652ab7",
   "metadata": {},
   "outputs": [],
   "source": [
    "import warnings\n",
    "warnings.filterwarnings(\"ignore\")"
   ]
  },
  {
   "cell_type": "markdown",
   "id": "48ac9e91",
   "metadata": {},
   "source": [
    "#### Import dataframe from pickle"
   ]
  },
  {
   "cell_type": "code",
   "execution_count": 3,
   "id": "b3d2cdb7",
   "metadata": {},
   "outputs": [],
   "source": [
    "df = pd.read_pickle('df.pickle')"
   ]
  },
  {
   "cell_type": "markdown",
   "id": "5a2305d5",
   "metadata": {},
   "source": [
    "## First train/test set:\n",
    "* In the first set I am testing I will be using count vectors"
   ]
  },
  {
   "cell_type": "markdown",
   "id": "c5b8eb20",
   "metadata": {},
   "source": [
    "#### Define x and y"
   ]
  },
  {
   "cell_type": "code",
   "execution_count": 4,
   "id": "ecf5c8d0",
   "metadata": {},
   "outputs": [],
   "source": [
    "x=df['text']\n",
    "y=df['stress_label']"
   ]
  },
  {
   "cell_type": "markdown",
   "id": "0968fa0a",
   "metadata": {},
   "source": [
    "#### Define vectorizer, stopwords"
   ]
  },
  {
   "cell_type": "code",
   "execution_count": 5,
   "id": "c33e0109",
   "metadata": {},
   "outputs": [],
   "source": [
    "vect=CountVectorizer(stop_words=\"english\")"
   ]
  },
  {
   "cell_type": "markdown",
   "id": "21d3246c",
   "metadata": {},
   "source": [
    "#### Train/test split x and y"
   ]
  },
  {
   "cell_type": "code",
   "execution_count": 6,
   "id": "21a5f753",
   "metadata": {},
   "outputs": [],
   "source": [
    "x=vect.fit_transform(x)"
   ]
  },
  {
   "cell_type": "code",
   "execution_count": 7,
   "id": "f431e4b3",
   "metadata": {},
   "outputs": [],
   "source": [
    "x_train,x_test,y_train,y_test=train_test_split(x,y,random_state=42)"
   ]
  },
  {
   "cell_type": "markdown",
   "id": "869ce913",
   "metadata": {},
   "source": [
    "#### Save as pickle"
   ]
  },
  {
   "cell_type": "code",
   "execution_count": 8,
   "id": "77059ae4",
   "metadata": {},
   "outputs": [],
   "source": [
    "pkl_filename = \"x_train_CV.pkl\"\n",
    "with open(pkl_filename, 'wb') as file:\n",
    "    pickle.dump(x_train, file)\n",
    "    \n",
    "    \n",
    "pkl_filename = \"x_test_CV.pkl\"\n",
    "with open(pkl_filename, 'wb') as file:\n",
    "    pickle.dump(x_test, file)\n",
    "    \n",
    "    \n",
    "pkl_filename = \"y_train_CV.pkl\"\n",
    "with open(pkl_filename, 'wb') as file:\n",
    "    pickle.dump(y_train, file)\n",
    "    \n",
    "    \n",
    "pkl_filename = \"y_test_CV.pkl\"\n",
    "with open(pkl_filename, 'wb') as file:\n",
    "    pickle.dump(y_test, file)\n",
    "    \n",
    "vec_file = \"cv_vectorizer.pickle\"\n",
    "pickle.dump(vect, open(vec_file, \"wb\"))"
   ]
  },
  {
   "cell_type": "markdown",
   "id": "29558d39",
   "metadata": {},
   "source": [
    "## Second train/test set:\n",
    "* In the second set I am testing I will be using tf-idf vectors"
   ]
  },
  {
   "cell_type": "markdown",
   "id": "7b322e44",
   "metadata": {},
   "source": [
    "#### Define x and y"
   ]
  },
  {
   "cell_type": "code",
   "execution_count": 9,
   "id": "38473f96",
   "metadata": {},
   "outputs": [],
   "source": [
    "x=df['text']\n",
    "y=df['stress_label']"
   ]
  },
  {
   "cell_type": "markdown",
   "id": "a343b310",
   "metadata": {},
   "source": [
    "#### Define vectorizer, stopwords"
   ]
  },
  {
   "cell_type": "code",
   "execution_count": 10,
   "id": "43e99735",
   "metadata": {},
   "outputs": [],
   "source": [
    "vectorizer = TfidfVectorizer(stop_words=\"english\")"
   ]
  },
  {
   "cell_type": "markdown",
   "id": "573b3d0f",
   "metadata": {},
   "source": [
    "#### Train/test split x and y"
   ]
  },
  {
   "cell_type": "code",
   "execution_count": 11,
   "id": "f0b491fe",
   "metadata": {},
   "outputs": [],
   "source": [
    "X_tfidf = vectorizer.fit_transform(x)"
   ]
  },
  {
   "cell_type": "code",
   "execution_count": 12,
   "id": "a62538ab",
   "metadata": {},
   "outputs": [],
   "source": [
    "x_train, x_test, y_train, y_test = train_test_split(X_tfidf, y, test_size=0.33, random_state=42)"
   ]
  },
  {
   "cell_type": "markdown",
   "id": "e22ec696",
   "metadata": {},
   "source": [
    "#### Save as pickle"
   ]
  },
  {
   "cell_type": "code",
   "execution_count": 13,
   "id": "da9e0a3e",
   "metadata": {},
   "outputs": [],
   "source": [
    "pkl_filename = \"x_train_TFID.pkl\"\n",
    "with open(pkl_filename, 'wb') as file:\n",
    "    pickle.dump(x_train, file)\n",
    "    \n",
    "    \n",
    "pkl_filename = \"x_test_TFID.pkl\"\n",
    "with open(pkl_filename, 'wb') as file:\n",
    "    pickle.dump(x_test, file)\n",
    "    \n",
    "    \n",
    "pkl_filename = \"y_train_TFID.pkl\"\n",
    "with open(pkl_filename, 'wb') as file:\n",
    "    pickle.dump(y_train, file)\n",
    "    \n",
    "    \n",
    "pkl_filename = \"y_test_TFID.pkl\"\n",
    "with open(pkl_filename, 'wb') as file:\n",
    "    pickle.dump(y_test, file)\n",
    "    \n",
    "vec_file = \"tfidf_vectorizer.pickle\"\n",
    "pickle.dump(vectorizer, open(vec_file, \"wb\"))"
   ]
  }
 ],
 "metadata": {
  "kernelspec": {
   "display_name": "Python 3 (ipykernel)",
   "language": "python",
   "name": "python3"
  },
  "language_info": {
   "codemirror_mode": {
    "name": "ipython",
    "version": 3
   },
   "file_extension": ".py",
   "mimetype": "text/x-python",
   "name": "python",
   "nbconvert_exporter": "python",
   "pygments_lexer": "ipython3",
   "version": "3.9.12"
  }
 },
 "nbformat": 4,
 "nbformat_minor": 5
}
