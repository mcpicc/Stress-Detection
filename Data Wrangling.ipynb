{
 "cells": [
  {
   "cell_type": "markdown",
   "id": "80c3a91c",
   "metadata": {},
   "source": [
    "# Creating a Stress Detection Tool using Data From Mental Health Subreddits: Data Wrangling"
   ]
  },
  {
   "cell_type": "markdown",
   "id": "d8203311",
   "metadata": {},
   "source": [
    "#### Import necessary libraries"
   ]
  },
  {
   "cell_type": "code",
   "execution_count": 1,
   "id": "c31a91f4",
   "metadata": {},
   "outputs": [],
   "source": [
    "import pandas as pd\n",
    "import numpy as np\n",
    "\n",
    "#reddit crawler\n",
    "import praw\n",
    "from praw.models import MoreComments\n",
    "\n",
    "#preprocessing\n",
    "import string\n",
    "\n",
    "#for saving\n",
    "import pickle"
   ]
  },
  {
   "cell_type": "markdown",
   "id": "ce471996",
   "metadata": {},
   "source": [
    "#### Set up client"
   ]
  },
  {
   "cell_type": "code",
   "execution_count": 2,
   "id": "65625e8b",
   "metadata": {},
   "outputs": [],
   "source": [
    "r = praw.Reddit(user_agent = '',\n",
    "                client_id = '',\n",
    "                client_secret = '',\n",
    "                check_for_async=False)"
   ]
  },
  {
   "cell_type": "markdown",
   "id": "ad848fec",
   "metadata": {},
   "source": [
    "#### Create the subreddit list that I want to get data from\n",
    "* I have mostly chosen mental health  related subreddits\n",
    "* I added in a few positivity-based subreddits to balance out as well"
   ]
  },
  {
   "cell_type": "code",
   "execution_count": 3,
   "id": "dccd8628",
   "metadata": {},
   "outputs": [],
   "source": [
    "sr_list = ['adhd', 'affirmations', 'anger', 'anxiety', 'depression', 'mentalillness', 'mindfulness', 'socialanxiety']"
   ]
  },
  {
   "cell_type": "markdown",
   "id": "9f9d5eb6",
   "metadata": {},
   "source": [
    "#### Get URLs from top reddit posts from each subreddit\n",
    "* I am creating the first for loop to get the top posts from each subreddit from the API\n",
    "* The second for loop is to get the comments from each of those posts\n",
    "* I am then appending it to the list, then converting to a dataframe"
   ]
  },
  {
   "cell_type": "code",
   "execution_count": 4,
   "id": "d7fd7509",
   "metadata": {},
   "outputs": [],
   "source": [
    "posts = []\n",
    "\n",
    "for sr in sr_list:\n",
    "    subreddit = r.subreddit(sr)\n",
    "    \n",
    "    for post in subreddit.hot(limit=5):\n",
    "        \n",
    "        post.comments.replace_more(limit=5)\n",
    "        for comment in post.comments.list():\n",
    "             posts.append([post.subreddit, comment.body])"
   ]
  },
  {
   "cell_type": "code",
   "execution_count": 5,
   "id": "6f953a31",
   "metadata": {},
   "outputs": [],
   "source": [
    "posts = pd.DataFrame(posts)"
   ]
  },
  {
   "cell_type": "markdown",
   "id": "438a5bb4",
   "metadata": {},
   "source": [
    "#### Checking out the data\n",
    "* .shape to make sure I have enough data\n",
    "* .head and .tail to make sure everything looks right"
   ]
  },
  {
   "cell_type": "code",
   "execution_count": 6,
   "id": "619506e2",
   "metadata": {},
   "outputs": [
    {
     "data": {
      "text/plain": [
       "(2457, 2)"
      ]
     },
     "execution_count": 6,
     "metadata": {},
     "output_type": "execute_result"
    }
   ],
   "source": [
    "posts.shape"
   ]
  },
  {
   "cell_type": "code",
   "execution_count": 7,
   "id": "281a5ff6",
   "metadata": {},
   "outputs": [
    {
     "data": {
      "text/html": [
       "<div>\n",
       "<style scoped>\n",
       "    .dataframe tbody tr th:only-of-type {\n",
       "        vertical-align: middle;\n",
       "    }\n",
       "\n",
       "    .dataframe tbody tr th {\n",
       "        vertical-align: top;\n",
       "    }\n",
       "\n",
       "    .dataframe thead th {\n",
       "        text-align: right;\n",
       "    }\n",
       "</style>\n",
       "<table border=\"1\" class=\"dataframe\">\n",
       "  <thead>\n",
       "    <tr style=\"text-align: right;\">\n",
       "      <th></th>\n",
       "      <th>0</th>\n",
       "      <th>1</th>\n",
       "    </tr>\n",
       "  </thead>\n",
       "  <tbody>\n",
       "    <tr>\n",
       "      <th>0</th>\n",
       "      <td>ADHD</td>\n",
       "      <td>I finally cleaned my entire living space, and ...</td>\n",
       "    </tr>\n",
       "    <tr>\n",
       "      <th>1</th>\n",
       "      <td>ADHD</td>\n",
       "      <td>I found this subreddit</td>\n",
       "    </tr>\n",
       "    <tr>\n",
       "      <th>2</th>\n",
       "      <td>ADHD</td>\n",
       "      <td>Made it through the first week of spring term!...</td>\n",
       "    </tr>\n",
       "    <tr>\n",
       "      <th>3</th>\n",
       "      <td>ADHD</td>\n",
       "      <td>I finally got my Adderall prescription yesterd...</td>\n",
       "    </tr>\n",
       "    <tr>\n",
       "      <th>4</th>\n",
       "      <td>ADHD</td>\n",
       "      <td>I finally got my info together to send to my a...</td>\n",
       "    </tr>\n",
       "  </tbody>\n",
       "</table>\n",
       "</div>"
      ],
      "text/plain": [
       "      0                                                  1\n",
       "0  ADHD  I finally cleaned my entire living space, and ...\n",
       "1  ADHD                             I found this subreddit\n",
       "2  ADHD  Made it through the first week of spring term!...\n",
       "3  ADHD  I finally got my Adderall prescription yesterd...\n",
       "4  ADHD  I finally got my info together to send to my a..."
      ]
     },
     "execution_count": 7,
     "metadata": {},
     "output_type": "execute_result"
    }
   ],
   "source": [
    "posts.head(5)"
   ]
  },
  {
   "cell_type": "code",
   "execution_count": 8,
   "id": "6dbbf288",
   "metadata": {},
   "outputs": [
    {
     "data": {
      "text/html": [
       "<div>\n",
       "<style scoped>\n",
       "    .dataframe tbody tr th:only-of-type {\n",
       "        vertical-align: middle;\n",
       "    }\n",
       "\n",
       "    .dataframe tbody tr th {\n",
       "        vertical-align: top;\n",
       "    }\n",
       "\n",
       "    .dataframe thead th {\n",
       "        text-align: right;\n",
       "    }\n",
       "</style>\n",
       "<table border=\"1\" class=\"dataframe\">\n",
       "  <thead>\n",
       "    <tr style=\"text-align: right;\">\n",
       "      <th></th>\n",
       "      <th>0</th>\n",
       "      <th>1</th>\n",
       "    </tr>\n",
       "  </thead>\n",
       "  <tbody>\n",
       "    <tr>\n",
       "      <th>2452</th>\n",
       "      <td>socialanxiety</td>\n",
       "      <td>Find another job ASAP. Companies are still hir...</td>\n",
       "    </tr>\n",
       "    <tr>\n",
       "      <th>2453</th>\n",
       "      <td>socialanxiety</td>\n",
       "      <td>Imm so sorry that had happened to you hopefull...</td>\n",
       "    </tr>\n",
       "    <tr>\n",
       "      <th>2454</th>\n",
       "      <td>socialanxiety</td>\n",
       "      <td>Dont worry! theres always another job who will...</td>\n",
       "    </tr>\n",
       "    <tr>\n",
       "      <th>2455</th>\n",
       "      <td>socialanxiety</td>\n",
       "      <td>Yep, mushrooms.</td>\n",
       "    </tr>\n",
       "    <tr>\n",
       "      <th>2456</th>\n",
       "      <td>socialanxiety</td>\n",
       "      <td>I always wanted to try shrooms to ‘fix my brai...</td>\n",
       "    </tr>\n",
       "  </tbody>\n",
       "</table>\n",
       "</div>"
      ],
      "text/plain": [
       "                  0                                                  1\n",
       "2452  socialanxiety  Find another job ASAP. Companies are still hir...\n",
       "2453  socialanxiety  Imm so sorry that had happened to you hopefull...\n",
       "2454  socialanxiety  Dont worry! theres always another job who will...\n",
       "2455  socialanxiety                                    Yep, mushrooms.\n",
       "2456  socialanxiety  I always wanted to try shrooms to ‘fix my brai..."
      ]
     },
     "execution_count": 8,
     "metadata": {},
     "output_type": "execute_result"
    }
   ],
   "source": [
    "posts.tail(5)"
   ]
  },
  {
   "cell_type": "markdown",
   "id": "6f343875",
   "metadata": {},
   "source": [
    "#### Fixing the column names"
   ]
  },
  {
   "cell_type": "code",
   "execution_count": 9,
   "id": "1f4bbfe6",
   "metadata": {},
   "outputs": [],
   "source": [
    "posts.columns = ['subreddit', 'text']"
   ]
  },
  {
   "cell_type": "code",
   "execution_count": 10,
   "id": "8524fc3b",
   "metadata": {},
   "outputs": [
    {
     "data": {
      "text/html": [
       "<div>\n",
       "<style scoped>\n",
       "    .dataframe tbody tr th:only-of-type {\n",
       "        vertical-align: middle;\n",
       "    }\n",
       "\n",
       "    .dataframe tbody tr th {\n",
       "        vertical-align: top;\n",
       "    }\n",
       "\n",
       "    .dataframe thead th {\n",
       "        text-align: right;\n",
       "    }\n",
       "</style>\n",
       "<table border=\"1\" class=\"dataframe\">\n",
       "  <thead>\n",
       "    <tr style=\"text-align: right;\">\n",
       "      <th></th>\n",
       "      <th>subreddit</th>\n",
       "      <th>text</th>\n",
       "    </tr>\n",
       "  </thead>\n",
       "  <tbody>\n",
       "    <tr>\n",
       "      <th>0</th>\n",
       "      <td>ADHD</td>\n",
       "      <td>I finally cleaned my entire living space, and ...</td>\n",
       "    </tr>\n",
       "    <tr>\n",
       "      <th>1</th>\n",
       "      <td>ADHD</td>\n",
       "      <td>I found this subreddit</td>\n",
       "    </tr>\n",
       "    <tr>\n",
       "      <th>2</th>\n",
       "      <td>ADHD</td>\n",
       "      <td>Made it through the first week of spring term!...</td>\n",
       "    </tr>\n",
       "    <tr>\n",
       "      <th>3</th>\n",
       "      <td>ADHD</td>\n",
       "      <td>I finally got my Adderall prescription yesterd...</td>\n",
       "    </tr>\n",
       "    <tr>\n",
       "      <th>4</th>\n",
       "      <td>ADHD</td>\n",
       "      <td>I finally got my info together to send to my a...</td>\n",
       "    </tr>\n",
       "  </tbody>\n",
       "</table>\n",
       "</div>"
      ],
      "text/plain": [
       "  subreddit                                               text\n",
       "0      ADHD  I finally cleaned my entire living space, and ...\n",
       "1      ADHD                             I found this subreddit\n",
       "2      ADHD  Made it through the first week of spring term!...\n",
       "3      ADHD  I finally got my Adderall prescription yesterd...\n",
       "4      ADHD  I finally got my info together to send to my a..."
      ]
     },
     "execution_count": 10,
     "metadata": {},
     "output_type": "execute_result"
    }
   ],
   "source": [
    "posts.head(5)"
   ]
  },
  {
   "cell_type": "markdown",
   "id": "fa6740dd",
   "metadata": {},
   "source": [
    "#### Some preprocessing\n",
    "* I know I want two versions of my text data available, one with capitilization and punctuation and one without so I am adding the preprocessed text to a new column"
   ]
  },
  {
   "cell_type": "code",
   "execution_count": 11,
   "id": "b6eaf3be",
   "metadata": {},
   "outputs": [],
   "source": [
    "def remove_punctuations(text):\n",
    "    for punctuation in string.punctuation:\n",
    "        text = text.replace(punctuation, '')\n",
    "    return text\n",
    "\n",
    "posts['text_preproc'] = posts['text'].apply(remove_punctuations)"
   ]
  },
  {
   "cell_type": "code",
   "execution_count": 12,
   "id": "142c8c85",
   "metadata": {},
   "outputs": [],
   "source": [
    "posts['text_preproc'] = posts['text_preproc'].str.lower()"
   ]
  },
  {
   "cell_type": "markdown",
   "id": "22ee4f6a",
   "metadata": {},
   "source": [
    "#### Checking things out one more time"
   ]
  },
  {
   "cell_type": "code",
   "execution_count": 13,
   "id": "6aa855aa",
   "metadata": {},
   "outputs": [
    {
     "data": {
      "text/html": [
       "<div>\n",
       "<style scoped>\n",
       "    .dataframe tbody tr th:only-of-type {\n",
       "        vertical-align: middle;\n",
       "    }\n",
       "\n",
       "    .dataframe tbody tr th {\n",
       "        vertical-align: top;\n",
       "    }\n",
       "\n",
       "    .dataframe thead th {\n",
       "        text-align: right;\n",
       "    }\n",
       "</style>\n",
       "<table border=\"1\" class=\"dataframe\">\n",
       "  <thead>\n",
       "    <tr style=\"text-align: right;\">\n",
       "      <th></th>\n",
       "      <th>subreddit</th>\n",
       "      <th>text</th>\n",
       "      <th>text_preproc</th>\n",
       "    </tr>\n",
       "  </thead>\n",
       "  <tbody>\n",
       "    <tr>\n",
       "      <th>0</th>\n",
       "      <td>ADHD</td>\n",
       "      <td>I finally cleaned my entire living space, and ...</td>\n",
       "      <td>i finally cleaned my entire living space and d...</td>\n",
       "    </tr>\n",
       "    <tr>\n",
       "      <th>1</th>\n",
       "      <td>ADHD</td>\n",
       "      <td>I found this subreddit</td>\n",
       "      <td>i found this subreddit</td>\n",
       "    </tr>\n",
       "    <tr>\n",
       "      <th>2</th>\n",
       "      <td>ADHD</td>\n",
       "      <td>Made it through the first week of spring term!...</td>\n",
       "      <td>made it through the first week of spring term ...</td>\n",
       "    </tr>\n",
       "    <tr>\n",
       "      <th>3</th>\n",
       "      <td>ADHD</td>\n",
       "      <td>I finally got my Adderall prescription yesterd...</td>\n",
       "      <td>i finally got my adderall prescription yesterd...</td>\n",
       "    </tr>\n",
       "    <tr>\n",
       "      <th>4</th>\n",
       "      <td>ADHD</td>\n",
       "      <td>I finally got my info together to send to my a...</td>\n",
       "      <td>i finally got my info together to send to my a...</td>\n",
       "    </tr>\n",
       "  </tbody>\n",
       "</table>\n",
       "</div>"
      ],
      "text/plain": [
       "  subreddit                                               text  \\\n",
       "0      ADHD  I finally cleaned my entire living space, and ...   \n",
       "1      ADHD                             I found this subreddit   \n",
       "2      ADHD  Made it through the first week of spring term!...   \n",
       "3      ADHD  I finally got my Adderall prescription yesterd...   \n",
       "4      ADHD  I finally got my info together to send to my a...   \n",
       "\n",
       "                                        text_preproc  \n",
       "0  i finally cleaned my entire living space and d...  \n",
       "1                             i found this subreddit  \n",
       "2  made it through the first week of spring term ...  \n",
       "3  i finally got my adderall prescription yesterd...  \n",
       "4  i finally got my info together to send to my a...  "
      ]
     },
     "execution_count": 13,
     "metadata": {},
     "output_type": "execute_result"
    }
   ],
   "source": [
    "posts.head(5)"
   ]
  },
  {
   "cell_type": "code",
   "execution_count": 14,
   "id": "01db580a",
   "metadata": {},
   "outputs": [
    {
     "data": {
      "text/html": [
       "<div>\n",
       "<style scoped>\n",
       "    .dataframe tbody tr th:only-of-type {\n",
       "        vertical-align: middle;\n",
       "    }\n",
       "\n",
       "    .dataframe tbody tr th {\n",
       "        vertical-align: top;\n",
       "    }\n",
       "\n",
       "    .dataframe thead th {\n",
       "        text-align: right;\n",
       "    }\n",
       "</style>\n",
       "<table border=\"1\" class=\"dataframe\">\n",
       "  <thead>\n",
       "    <tr style=\"text-align: right;\">\n",
       "      <th></th>\n",
       "      <th>subreddit</th>\n",
       "      <th>text</th>\n",
       "      <th>text_preproc</th>\n",
       "    </tr>\n",
       "  </thead>\n",
       "  <tbody>\n",
       "    <tr>\n",
       "      <th>2452</th>\n",
       "      <td>socialanxiety</td>\n",
       "      <td>Find another job ASAP. Companies are still hir...</td>\n",
       "      <td>find another job asap companies are still hiri...</td>\n",
       "    </tr>\n",
       "    <tr>\n",
       "      <th>2453</th>\n",
       "      <td>socialanxiety</td>\n",
       "      <td>Imm so sorry that had happened to you hopefull...</td>\n",
       "      <td>imm so sorry that had happened to you hopefull...</td>\n",
       "    </tr>\n",
       "    <tr>\n",
       "      <th>2454</th>\n",
       "      <td>socialanxiety</td>\n",
       "      <td>Dont worry! theres always another job who will...</td>\n",
       "      <td>dont worry theres always another job who will ...</td>\n",
       "    </tr>\n",
       "    <tr>\n",
       "      <th>2455</th>\n",
       "      <td>socialanxiety</td>\n",
       "      <td>Yep, mushrooms.</td>\n",
       "      <td>yep mushrooms</td>\n",
       "    </tr>\n",
       "    <tr>\n",
       "      <th>2456</th>\n",
       "      <td>socialanxiety</td>\n",
       "      <td>I always wanted to try shrooms to ‘fix my brai...</td>\n",
       "      <td>i always wanted to try shrooms to ‘fix my brai...</td>\n",
       "    </tr>\n",
       "  </tbody>\n",
       "</table>\n",
       "</div>"
      ],
      "text/plain": [
       "          subreddit                                               text  \\\n",
       "2452  socialanxiety  Find another job ASAP. Companies are still hir...   \n",
       "2453  socialanxiety  Imm so sorry that had happened to you hopefull...   \n",
       "2454  socialanxiety  Dont worry! theres always another job who will...   \n",
       "2455  socialanxiety                                    Yep, mushrooms.   \n",
       "2456  socialanxiety  I always wanted to try shrooms to ‘fix my brai...   \n",
       "\n",
       "                                           text_preproc  \n",
       "2452  find another job asap companies are still hiri...  \n",
       "2453  imm so sorry that had happened to you hopefull...  \n",
       "2454  dont worry theres always another job who will ...  \n",
       "2455                                      yep mushrooms  \n",
       "2456  i always wanted to try shrooms to ‘fix my brai...  "
      ]
     },
     "execution_count": 14,
     "metadata": {},
     "output_type": "execute_result"
    }
   ],
   "source": [
    "posts.tail(5)"
   ]
  },
  {
   "cell_type": "markdown",
   "id": "386e0f24",
   "metadata": {},
   "source": [
    "#### Rename 'posts' to 'df'"
   ]
  },
  {
   "cell_type": "code",
   "execution_count": 15,
   "id": "8affcea3",
   "metadata": {},
   "outputs": [],
   "source": [
    "df = posts"
   ]
  },
  {
   "cell_type": "markdown",
   "id": "e80891ba",
   "metadata": {},
   "source": [
    "#### Save to pickle"
   ]
  },
  {
   "cell_type": "code",
   "execution_count": 16,
   "id": "cede3a52",
   "metadata": {},
   "outputs": [],
   "source": [
    "df.to_pickle('df.pickle')"
   ]
  }
 ],
 "metadata": {
  "kernelspec": {
   "display_name": "Python 3 (ipykernel)",
   "language": "python",
   "name": "python3"
  },
  "language_info": {
   "codemirror_mode": {
    "name": "ipython",
    "version": 3
   },
   "file_extension": ".py",
   "mimetype": "text/x-python",
   "name": "python",
   "nbconvert_exporter": "python",
   "pygments_lexer": "ipython3",
   "version": "3.9.12"
  }
 },
 "nbformat": 4,
 "nbformat_minor": 5
}
