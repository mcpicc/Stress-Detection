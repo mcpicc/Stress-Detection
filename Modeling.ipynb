{
 "cells": [
  {
   "cell_type": "markdown",
   "id": "2021aaa6",
   "metadata": {},
   "source": [
    "# Creating a Stress Detection Tool using Data From Mental Health Subreddits: Modeling"
   ]
  },
  {
   "cell_type": "markdown",
   "id": "cbc82b64",
   "metadata": {},
   "source": [
    "#### Import necessary libraries"
   ]
  },
  {
   "cell_type": "code",
   "execution_count": 1,
   "id": "08c18059",
   "metadata": {},
   "outputs": [],
   "source": [
    "import pandas as pd\n",
    "import numpy as np\n",
    "import pickle\n",
    "\n",
    "from sklearn.feature_extraction.text import CountVectorizer, TfidfVectorizer\n",
    "\n",
    "from sklearn.model_selection import train_test_split\n",
    "from sklearn.naive_bayes import MultinomialNB\n",
    "from sklearn.metrics import accuracy_score\n",
    "\n",
    "from sklearn.tree import DecisionTreeClassifier\n",
    "from sklearn.naive_bayes import MultinomialNB\n",
    "from sklearn.linear_model import LogisticRegression"
   ]
  },
  {
   "cell_type": "code",
   "execution_count": 2,
   "id": "5a0b0baf",
   "metadata": {},
   "outputs": [],
   "source": [
    "import warnings\n",
    "warnings.filterwarnings(\"ignore\")"
   ]
  },
  {
   "cell_type": "markdown",
   "id": "a3b870a8",
   "metadata": {},
   "source": [
    "#### Import dataframe from pickle"
   ]
  },
  {
   "cell_type": "code",
   "execution_count": 3,
   "id": "b16760a8",
   "metadata": {},
   "outputs": [],
   "source": [
    "df = pd.read_pickle('df.pickle')"
   ]
  },
  {
   "cell_type": "markdown",
   "id": "5388b9e4",
   "metadata": {},
   "source": [
    "#### Define x and y"
   ]
  },
  {
   "cell_type": "code",
   "execution_count": 4,
   "id": "2de6b830",
   "metadata": {},
   "outputs": [],
   "source": [
    "x=df['text']\n",
    "y=df['score']"
   ]
  },
  {
   "cell_type": "markdown",
   "id": "577fbbb4",
   "metadata": {},
   "source": [
    "#### Define stopwords"
   ]
  },
  {
   "cell_type": "code",
   "execution_count": 5,
   "id": "7c41227b",
   "metadata": {},
   "outputs": [],
   "source": [
    "vect=CountVectorizer(stop_words=\"english\")"
   ]
  },
  {
   "cell_type": "markdown",
   "id": "f062f7fc",
   "metadata": {},
   "source": [
    "#### Train/test split x and y"
   ]
  },
  {
   "cell_type": "code",
   "execution_count": 6,
   "id": "ad1e6f8d",
   "metadata": {},
   "outputs": [],
   "source": [
    "x=vect.fit_transform(x)"
   ]
  },
  {
   "cell_type": "code",
   "execution_count": 7,
   "id": "b0729521",
   "metadata": {},
   "outputs": [],
   "source": [
    "x_train,x_test,y_train,y_test=train_test_split(x,y,random_state=42)"
   ]
  },
  {
   "cell_type": "markdown",
   "id": "afd406a1",
   "metadata": {},
   "source": [
    "#### Naive Bayes"
   ]
  },
  {
   "cell_type": "code",
   "execution_count": 8,
   "id": "a81522e4",
   "metadata": {},
   "outputs": [],
   "source": [
    "mb=MultinomialNB()\n",
    "m1=mb.fit(x_train,y_train).predict(x_test)"
   ]
  },
  {
   "cell_type": "code",
   "execution_count": 9,
   "id": "f09eda18",
   "metadata": {},
   "outputs": [
    {
     "name": "stdout",
     "output_type": "stream",
     "text": [
      "Naive Bayes Model Accuracy is 75.58%\n"
     ]
    }
   ],
   "source": [
    "print(\"Naive Bayes Model Accuracy is {p}%\".format(p =round (accuracy_score(m1,y_test)*100, 2)))"
   ]
  },
  {
   "cell_type": "markdown",
   "id": "45d5b4ee",
   "metadata": {},
   "source": [
    "#### Logistic Regression"
   ]
  },
  {
   "cell_type": "code",
   "execution_count": 10,
   "id": "73d9c86a",
   "metadata": {},
   "outputs": [],
   "source": [
    "m2=LogisticRegression().fit(x_train, y_train)\n",
    "score = m2.score(x_test,y_test)"
   ]
  },
  {
   "cell_type": "code",
   "execution_count": 11,
   "id": "69760ad5",
   "metadata": {},
   "outputs": [
    {
     "name": "stdout",
     "output_type": "stream",
     "text": [
      "Logistic Regression Model Accuracy is 80.14%\n"
     ]
    }
   ],
   "source": [
    "print(\"Logistic Regression Model Accuracy is {p}%\".format(p =round (score*100, 2)))"
   ]
  },
  {
   "cell_type": "markdown",
   "id": "c34b379f",
   "metadata": {},
   "source": [
    "#### Decision Tree"
   ]
  },
  {
   "cell_type": "code",
   "execution_count": 12,
   "id": "1cbca185",
   "metadata": {},
   "outputs": [],
   "source": [
    "d=DecisionTreeClassifier()\n",
    "d.fit(x_train,y_train)\n",
    "m3=d.predict(x_test)"
   ]
  },
  {
   "cell_type": "code",
   "execution_count": 13,
   "id": "9746ce43",
   "metadata": {},
   "outputs": [
    {
     "name": "stdout",
     "output_type": "stream",
     "text": [
      "Decision Tree Model Accuracy is 70.59%\n"
     ]
    }
   ],
   "source": [
    "print(\"Decision Tree Model Accuracy is {p}%\".format(p =round (accuracy_score(y_test,m3)*100, 2)))"
   ]
  },
  {
   "cell_type": "markdown",
   "id": "5b4a04a3",
   "metadata": {},
   "source": [
    "#### Testing the models\n",
    "* Here I will enter a sentence that I as the user know to be positive to see what the models do"
   ]
  },
  {
   "cell_type": "code",
   "execution_count": 14,
   "id": "ccc09c68",
   "metadata": {},
   "outputs": [
    {
     "name": "stdout",
     "output_type": "stream",
     "text": [
      "Enter a sentence: I am very happy and relaxed today! I got everything done on my to-do list!\n"
     ]
    }
   ],
   "source": [
    "user_input = input(\"Enter a sentence: \")"
   ]
  },
  {
   "cell_type": "markdown",
   "id": "df844532",
   "metadata": {},
   "source": [
    "#### Naive Bayes"
   ]
  },
  {
   "cell_type": "code",
   "execution_count": 15,
   "id": "503d8ae5",
   "metadata": {},
   "outputs": [
    {
     "name": "stdout",
     "output_type": "stream",
     "text": [
      "Using the Naive Bayes model...\n",
      "...This input indicated that the user is NOT stressed\n"
     ]
    }
   ],
   "source": [
    "p = vect.transform([user_input]).toarray()\n",
    "op = mb.predict(p)\n",
    "print(\"Using the Naive Bayes model...\")\n",
    "if op == 'neg':\n",
    "    print(\"...This input indicated that the user is stressed\")\n",
    "if op == 'pos':\n",
    "    print(\"...This input indicated that the user is NOT stressed\")"
   ]
  },
  {
   "cell_type": "markdown",
   "id": "ff8f3276",
   "metadata": {},
   "source": [
    "#### Logistic Regression"
   ]
  },
  {
   "cell_type": "code",
   "execution_count": 16,
   "id": "f0a55884",
   "metadata": {},
   "outputs": [
    {
     "name": "stdout",
     "output_type": "stream",
     "text": [
      "Using the Logistical Regression model...\n",
      "...This input indicated that the user is NOT stressed\n"
     ]
    }
   ],
   "source": [
    "p = vect.transform([user_input]).toarray()\n",
    "op = m2.predict(p)\n",
    "print(\"Using the Logistical Regression model...\")\n",
    "if op == 'neg':\n",
    "    print(\"...This input indicated that the user is stressed\")\n",
    "if op == 'pos':\n",
    "    print(\"...This input indicated that the user is NOT stressed\")"
   ]
  },
  {
   "cell_type": "markdown",
   "id": "5edc6062",
   "metadata": {},
   "source": [
    "#### Decision Tree"
   ]
  },
  {
   "cell_type": "code",
   "execution_count": 17,
   "id": "3ac0292b",
   "metadata": {},
   "outputs": [
    {
     "name": "stdout",
     "output_type": "stream",
     "text": [
      "Using the Decision Tree model...\n",
      "...This input indicated that the user is NOT stressed\n"
     ]
    }
   ],
   "source": [
    "p = vect.transform([user_input]).toarray()\n",
    "op = d.predict(p)\n",
    "print(\"Using the Decision Tree model...\")\n",
    "if op == 'neg':\n",
    "    print(\"...This input indicated that the user is stressed\")\n",
    "if op == 'pos':\n",
    "    print(\"...This input indicated that the user is NOT stressed\")"
   ]
  },
  {
   "cell_type": "markdown",
   "id": "bb22a7f0",
   "metadata": {},
   "source": [
    "#### Outcomes of first test:\n",
    "* All three models performed as expected"
   ]
  },
  {
   "cell_type": "markdown",
   "id": "9135eb42",
   "metadata": {},
   "source": [
    "#### Creating the function\n",
    "* Because all three models have a high enough accuracy and have peformed well preliminarily, I will include all three in a final user-input function"
   ]
  },
  {
   "cell_type": "code",
   "execution_count": 18,
   "id": "821d1b14",
   "metadata": {},
   "outputs": [],
   "source": [
    "def stress_test(x):\n",
    "    p = vect.transform([user_input]).toarray()\n",
    "    op = mb.predict(p)\n",
    "    print(\"Using the Naive Bayes model...\")\n",
    "    if op == 'neg':\n",
    "        print(\"...This input indicated that the user is stressed\\n\")\n",
    "    if op == 'pos':\n",
    "        print(\"...This input indicated that the user is NOT stressed\\n\")\n",
    "        \n",
    "    p1 = vect.transform([user_input]).toarray()\n",
    "    op1 = m2.predict(p1)\n",
    "    print(\"Using the Logistical Regression model...\")\n",
    "    if op1 == 'neg':\n",
    "        print(\"...This input indicated that the user is stressed\\n\")\n",
    "    if op1 == 'pos':\n",
    "        print(\"...This input indicated that the user is NOT stressed\\n\")\n",
    "        \n",
    "    p2 = vect.transform([user_input]).toarray()\n",
    "    op2 = d.predict(p2)\n",
    "    print(\"Using the Decision Tree model...\")\n",
    "    if op2 == 'neg':\n",
    "        print(\"...This input indicated that the user is stressed\\n\")\n",
    "    if op2 == 'pos':\n",
    "        print(\"...This input indicated that the user is NOT stressed\\n\")"
   ]
  },
  {
   "cell_type": "markdown",
   "id": "342c7ff9",
   "metadata": {},
   "source": [
    "#### More testing!"
   ]
  },
  {
   "cell_type": "code",
   "execution_count": 19,
   "id": "97d59246",
   "metadata": {},
   "outputs": [
    {
     "name": "stdout",
     "output_type": "stream",
     "text": [
      "Enter a sentence: I had a horrible day, it started out bad when I missed the bus, then I was late to work, and then it started raining\n",
      "Using the Naive Bayes model...\n",
      "...This input indicated that the user is stressed\n",
      "\n",
      "Using the Logistical Regression model...\n",
      "...This input indicated that the user is stressed\n",
      "\n",
      "Using the Decision Tree model...\n",
      "...This input indicated that the user is stressed\n",
      "\n"
     ]
    }
   ],
   "source": [
    "user_input = input(\"Enter a sentence: \")\n",
    "stress_test(user_input)"
   ]
  },
  {
   "cell_type": "code",
   "execution_count": 20,
   "id": "7962d964",
   "metadata": {},
   "outputs": [
    {
     "name": "stdout",
     "output_type": "stream",
     "text": [
      "Enter a sentence: I've been having a really hard time studying for my midterm, sometimes I think I'm stupid\n",
      "Using the Naive Bayes model...\n",
      "...This input indicated that the user is stressed\n",
      "\n",
      "Using the Logistical Regression model...\n",
      "...This input indicated that the user is stressed\n",
      "\n",
      "Using the Decision Tree model...\n",
      "...This input indicated that the user is NOT stressed\n",
      "\n"
     ]
    }
   ],
   "source": [
    "user_input = input(\"Enter a sentence: \")\n",
    "stress_test(user_input)"
   ]
  },
  {
   "cell_type": "code",
   "execution_count": 21,
   "id": "164eac07",
   "metadata": {},
   "outputs": [
    {
     "name": "stdout",
     "output_type": "stream",
     "text": [
      "Enter a sentence: I worked really hard all semester and studied hard for my final, and I got an A! Let's go!\n",
      "Using the Naive Bayes model...\n",
      "...This input indicated that the user is NOT stressed\n",
      "\n",
      "Using the Logistical Regression model...\n",
      "...This input indicated that the user is NOT stressed\n",
      "\n",
      "Using the Decision Tree model...\n",
      "...This input indicated that the user is NOT stressed\n",
      "\n"
     ]
    }
   ],
   "source": [
    "user_input = input(\"Enter a sentence: \")\n",
    "stress_test(user_input)"
   ]
  },
  {
   "cell_type": "markdown",
   "id": "10edc12b",
   "metadata": {},
   "source": [
    "#### Conclusion\n",
    "* As you can see with some further testing, the models are NOT 100% accurate!\n",
    "* The more 'positive' and 'negative' words used, along with certain punctuation, can make a big difference in accuracy based on our method of scoring in previous notebooks\n",
    "* Overall though, all three models are adequately accurate for the purpose"
   ]
  }
 ],
 "metadata": {
  "kernelspec": {
   "display_name": "Python 3 (ipykernel)",
   "language": "python",
   "name": "python3"
  },
  "language_info": {
   "codemirror_mode": {
    "name": "ipython",
    "version": 3
   },
   "file_extension": ".py",
   "mimetype": "text/x-python",
   "name": "python",
   "nbconvert_exporter": "python",
   "pygments_lexer": "ipython3",
   "version": "3.9.12"
  }
 },
 "nbformat": 4,
 "nbformat_minor": 5
}
