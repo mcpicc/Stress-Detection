{
 "cells": [
  {
   "cell_type": "markdown",
   "id": "2021aaa6",
   "metadata": {},
   "source": [
    "# Creating a Stress Detection Tool using Data From Subreddits: Modeling"
   ]
  },
  {
   "cell_type": "markdown",
   "id": "cbc82b64",
   "metadata": {},
   "source": [
    "#### Import necessary libraries"
   ]
  },
  {
   "cell_type": "code",
   "execution_count": 1,
   "id": "08c18059",
   "metadata": {},
   "outputs": [],
   "source": [
    "import pandas as pd\n",
    "import numpy as np\n",
    "import pickle\n",
    "\n",
    "from sklearn.feature_extraction.text import CountVectorizer, TfidfVectorizer\n",
    "\n",
    "from sklearn.model_selection import train_test_split\n",
    "\n",
    "from sklearn.linear_model import LogisticRegression"
   ]
  },
  {
   "cell_type": "code",
   "execution_count": 2,
   "id": "5a0b0baf",
   "metadata": {},
   "outputs": [],
   "source": [
    "import warnings\n",
    "warnings.filterwarnings(\"ignore\")"
   ]
  },
  {
   "cell_type": "markdown",
   "id": "a3b870a8",
   "metadata": {},
   "source": [
    "#### Import dataframe from pickle"
   ]
  },
  {
   "cell_type": "code",
   "execution_count": 3,
   "id": "b16760a8",
   "metadata": {},
   "outputs": [],
   "source": [
    "df = pd.read_pickle('df.pickle')"
   ]
  },
  {
   "cell_type": "markdown",
   "id": "5388b9e4",
   "metadata": {},
   "source": [
    "#### Define x and y"
   ]
  },
  {
   "cell_type": "code",
   "execution_count": 4,
   "id": "2de6b830",
   "metadata": {},
   "outputs": [],
   "source": [
    "x=df['text']\n",
    "y=df['stress_label']"
   ]
  },
  {
   "cell_type": "markdown",
   "id": "577fbbb4",
   "metadata": {},
   "source": [
    "#### Define vectorizer, stopwords"
   ]
  },
  {
   "cell_type": "code",
   "execution_count": 5,
   "id": "7c41227b",
   "metadata": {},
   "outputs": [],
   "source": [
    "vect = TfidfVectorizer(stop_words=\"english\")"
   ]
  },
  {
   "cell_type": "markdown",
   "id": "f062f7fc",
   "metadata": {},
   "source": [
    "#### Train/test split x and y"
   ]
  },
  {
   "cell_type": "code",
   "execution_count": 6,
   "id": "ad1e6f8d",
   "metadata": {},
   "outputs": [],
   "source": [
    "X_tfidf = vect.fit_transform(x)"
   ]
  },
  {
   "cell_type": "code",
   "execution_count": 7,
   "id": "b0729521",
   "metadata": {},
   "outputs": [],
   "source": [
    "x_train, x_test, y_train, y_test = train_test_split(X_tfidf, y, test_size=0.33, random_state=42)"
   ]
  },
  {
   "cell_type": "markdown",
   "id": "45d5b4ee",
   "metadata": {},
   "source": [
    "#### Logistic Regression"
   ]
  },
  {
   "cell_type": "code",
   "execution_count": 8,
   "id": "8805403c",
   "metadata": {},
   "outputs": [],
   "source": [
    "m2 = LogisticRegression()\n",
    "m2.fit(x_train, y_train)\n",
    "score = m2.score(x_test,y_test)\n",
    "y_pred = m2.predict(x_test)"
   ]
  },
  {
   "cell_type": "markdown",
   "id": "9135eb42",
   "metadata": {},
   "source": [
    "#### Creating the function"
   ]
  },
  {
   "cell_type": "code",
   "execution_count": 9,
   "id": "821d1b14",
   "metadata": {},
   "outputs": [],
   "source": [
    "def stress_test_demo(x):\n",
    "        \n",
    "    p1 = vect.transform([user_input]).toarray()\n",
    "    op1 = m2.predict(p1)\n",
    "    print(\"Using the Logistic Regression model...\")\n",
    "    if op1 == 'stress':\n",
    "        print(\"...This input indicated that the user is stressed\\n\")\n",
    "    if op1 == 'no stress':\n",
    "        print(\"...This input indicated that the user is NOT stressed\\n\")"
   ]
  },
  {
   "cell_type": "markdown",
   "id": "342c7ff9",
   "metadata": {},
   "source": [
    "#### More testing!"
   ]
  },
  {
   "cell_type": "code",
   "execution_count": 10,
   "id": "97d59246",
   "metadata": {},
   "outputs": [
    {
     "name": "stdout",
     "output_type": "stream",
     "text": [
      "Enter a sentence: Every day I feel like I'm having a panic attack\n",
      "Using the Logistic Regression model...\n",
      "...This input indicated that the user is stressed\n",
      "\n"
     ]
    }
   ],
   "source": [
    "user_input = input(\"Enter a sentence: \")\n",
    "stress_test_demo(user_input)"
   ]
  },
  {
   "cell_type": "code",
   "execution_count": 11,
   "id": "7962d964",
   "metadata": {},
   "outputs": [
    {
     "name": "stdout",
     "output_type": "stream",
     "text": [
      "Enter a sentence: Long story short, I don't want to give up\n",
      "Using the Logistic Regression model...\n",
      "...This input indicated that the user is NOT stressed\n",
      "\n"
     ]
    }
   ],
   "source": [
    "user_input = input(\"Enter a sentence: \")\n",
    "stress_test_demo(user_input)"
   ]
  },
  {
   "cell_type": "code",
   "execution_count": 12,
   "id": "164eac07",
   "metadata": {},
   "outputs": [
    {
     "name": "stdout",
     "output_type": "stream",
     "text": [
      "Enter a sentence: I don't really know how I feel, any advice would be greatly appreciated\n",
      "Using the Logistic Regression model...\n",
      "...This input indicated that the user is stressed\n",
      "\n"
     ]
    }
   ],
   "source": [
    "user_input = input(\"Enter a sentence: \")\n",
    "stress_test_demo(user_input)"
   ]
  },
  {
   "cell_type": "code",
   "execution_count": 13,
   "id": "6d198cd1",
   "metadata": {},
   "outputs": [
    {
     "name": "stdout",
     "output_type": "stream",
     "text": [
      "Enter a sentence: You're welcome, don't give up!\n",
      "Using the Logistic Regression model...\n",
      "...This input indicated that the user is NOT stressed\n",
      "\n"
     ]
    }
   ],
   "source": [
    "user_input = input(\"Enter a sentence: \")\n",
    "stress_test_demo(user_input)"
   ]
  },
  {
   "cell_type": "code",
   "execution_count": 14,
   "id": "78d8469c",
   "metadata": {},
   "outputs": [
    {
     "name": "stdout",
     "output_type": "stream",
     "text": [
      "Enter a sentence: I don't know anymore\n",
      "Using the Logistic Regression model...\n",
      "...This input indicated that the user is stressed\n",
      "\n"
     ]
    }
   ],
   "source": [
    "user_input = input(\"Enter a sentence: \")\n",
    "stress_test_demo(user_input)"
   ]
  },
  {
   "cell_type": "markdown",
   "id": "a2650eb7",
   "metadata": {},
   "source": [
    "#### Conclusion\n",
    "* Overall the model is pretty good at identifying stress vs. no stress in comments, especially when the input includes keywords from the bigrams and trigrams found in each category"
   ]
  }
 ],
 "metadata": {
  "kernelspec": {
   "display_name": "Python 3 (ipykernel)",
   "language": "python",
   "name": "python3"
  },
  "language_info": {
   "codemirror_mode": {
    "name": "ipython",
    "version": 3
   },
   "file_extension": ".py",
   "mimetype": "text/x-python",
   "name": "python",
   "nbconvert_exporter": "python",
   "pygments_lexer": "ipython3",
   "version": "3.9.12"
  }
 },
 "nbformat": 4,
 "nbformat_minor": 5
}
