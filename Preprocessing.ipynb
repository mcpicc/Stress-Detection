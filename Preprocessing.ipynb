{
 "cells": [
  {
   "cell_type": "markdown",
   "id": "49fcb99e",
   "metadata": {},
   "source": [
    "# Creating a Stress Detection Tool using Data From Mental Health Subreddits: Preprocessing with VADER"
   ]
  },
  {
   "cell_type": "markdown",
   "id": "30a0e86f",
   "metadata": {},
   "source": [
    "#### Import necessary libraries"
   ]
  },
  {
   "cell_type": "code",
   "execution_count": 1,
   "id": "25170a4b",
   "metadata": {},
   "outputs": [],
   "source": [
    "import pandas as pd\n",
    "import numpy as np\n",
    "\n",
    "import nltk\n",
    "from nltk.sentiment.vader import SentimentIntensityAnalyzer\n",
    "from nltk.tokenize import word_tokenize, RegexpTokenizer\n",
    "from nltk.corpus import stopwords\n",
    "\n",
    "import matplotlib.pyplot as plt\n",
    "%matplotlib inline\n",
    "plt.rcParams[\"figure.figsize\"] = (10, 8)\n",
    "import seaborn as sns\n",
    "sns.set(style='whitegrid', palette='Dark2')\n",
    "from wordcloud import WordCloud"
   ]
  },
  {
   "cell_type": "markdown",
   "id": "52d40771",
   "metadata": {},
   "source": [
    "#### Import dataframe from pickle"
   ]
  },
  {
   "cell_type": "code",
   "execution_count": 2,
   "id": "067f1497",
   "metadata": {},
   "outputs": [],
   "source": [
    "df = pd.read_pickle('df.pickle')"
   ]
  },
  {
   "cell_type": "markdown",
   "id": "dc30103b",
   "metadata": {},
   "source": [
    "#### Begin sentiment analysis\n",
    "* Here I am using the Sentiment Intensity Analyzer from VADER"
   ]
  },
  {
   "cell_type": "code",
   "execution_count": 3,
   "id": "e2451e53",
   "metadata": {},
   "outputs": [],
   "source": [
    "sid = SentimentIntensityAnalyzer()"
   ]
  },
  {
   "cell_type": "markdown",
   "id": "bdf0bfb6",
   "metadata": {},
   "source": [
    "* First the Sentiment Intensity Analyzer will assign a 'negative,' 'neutral,' and 'positive' score to each comment\n",
    "* Because VADER is sensitive to case and punctuation, I am sure to use it on the original text column rather than the preprocessed column"
   ]
  },
  {
   "cell_type": "code",
   "execution_count": 4,
   "id": "8cc7fa24",
   "metadata": {},
   "outputs": [],
   "source": [
    "df['scores'] = df['text'].apply(lambda review: sid.polarity_scores(review))"
   ]
  },
  {
   "cell_type": "markdown",
   "id": "30799190",
   "metadata": {},
   "source": [
    "* Using the polarity scores, a compound score is generated which is rated on a scale from -1 to 1"
   ]
  },
  {
   "cell_type": "code",
   "execution_count": 5,
   "id": "78a8aff1",
   "metadata": {},
   "outputs": [],
   "source": [
    "df['compound']  = df['scores'].apply(lambda score_dict: score_dict['compound'])"
   ]
  },
  {
   "cell_type": "markdown",
   "id": "97d46f44",
   "metadata": {},
   "source": [
    "* The final score is assigned based on the compound score\n",
    "* Knowing that a compound score of less than 0 would be considered negative and a compound score of higher than 0 would be considered positive, I added a column for the final score based on those values"
   ]
  },
  {
   "cell_type": "code",
   "execution_count": 6,
   "id": "66dec51a",
   "metadata": {},
   "outputs": [],
   "source": [
    "df['score'] = df['compound'].apply(lambda c: 'pos' if c >=0 else 'neg')"
   ]
  },
  {
   "cell_type": "markdown",
   "id": "9dd29909",
   "metadata": {},
   "source": [
    "#### Review dataframe"
   ]
  },
  {
   "cell_type": "code",
   "execution_count": 7,
   "id": "5eeda674",
   "metadata": {},
   "outputs": [
    {
     "data": {
      "text/html": [
       "<div>\n",
       "<style scoped>\n",
       "    .dataframe tbody tr th:only-of-type {\n",
       "        vertical-align: middle;\n",
       "    }\n",
       "\n",
       "    .dataframe tbody tr th {\n",
       "        vertical-align: top;\n",
       "    }\n",
       "\n",
       "    .dataframe thead th {\n",
       "        text-align: right;\n",
       "    }\n",
       "</style>\n",
       "<table border=\"1\" class=\"dataframe\">\n",
       "  <thead>\n",
       "    <tr style=\"text-align: right;\">\n",
       "      <th></th>\n",
       "      <th>subreddit</th>\n",
       "      <th>text</th>\n",
       "      <th>text_preproc</th>\n",
       "      <th>scores</th>\n",
       "      <th>compound</th>\n",
       "      <th>score</th>\n",
       "    </tr>\n",
       "  </thead>\n",
       "  <tbody>\n",
       "    <tr>\n",
       "      <th>0</th>\n",
       "      <td>ADHD</td>\n",
       "      <td>I finally cleaned my entire living space, and ...</td>\n",
       "      <td>i finally cleaned my entire living space and d...</td>\n",
       "      <td>{'neg': 0.0, 'neu': 0.77, 'pos': 0.23, 'compou...</td>\n",
       "      <td>0.7558</td>\n",
       "      <td>pos</td>\n",
       "    </tr>\n",
       "    <tr>\n",
       "      <th>1</th>\n",
       "      <td>ADHD</td>\n",
       "      <td>I found this subreddit</td>\n",
       "      <td>i found this subreddit</td>\n",
       "      <td>{'neg': 0.0, 'neu': 1.0, 'pos': 0.0, 'compound...</td>\n",
       "      <td>0.0000</td>\n",
       "      <td>pos</td>\n",
       "    </tr>\n",
       "    <tr>\n",
       "      <th>2</th>\n",
       "      <td>ADHD</td>\n",
       "      <td>Made it through the first week of spring term!...</td>\n",
       "      <td>made it through the first week of spring term ...</td>\n",
       "      <td>{'neg': 0.0, 'neu': 1.0, 'pos': 0.0, 'compound...</td>\n",
       "      <td>0.0000</td>\n",
       "      <td>pos</td>\n",
       "    </tr>\n",
       "    <tr>\n",
       "      <th>3</th>\n",
       "      <td>ADHD</td>\n",
       "      <td>I finally got my Adderall prescription yesterd...</td>\n",
       "      <td>i finally got my adderall prescription yesterd...</td>\n",
       "      <td>{'neg': 0.0, 'neu': 0.859, 'pos': 0.141, 'comp...</td>\n",
       "      <td>0.8537</td>\n",
       "      <td>pos</td>\n",
       "    </tr>\n",
       "    <tr>\n",
       "      <th>4</th>\n",
       "      <td>ADHD</td>\n",
       "      <td>I finally got my info together to send to my a...</td>\n",
       "      <td>i finally got my info together to send to my a...</td>\n",
       "      <td>{'neg': 0.0, 'neu': 0.772, 'pos': 0.228, 'comp...</td>\n",
       "      <td>0.7346</td>\n",
       "      <td>pos</td>\n",
       "    </tr>\n",
       "  </tbody>\n",
       "</table>\n",
       "</div>"
      ],
      "text/plain": [
       "  subreddit                                               text  \\\n",
       "0      ADHD  I finally cleaned my entire living space, and ...   \n",
       "1      ADHD                             I found this subreddit   \n",
       "2      ADHD  Made it through the first week of spring term!...   \n",
       "3      ADHD  I finally got my Adderall prescription yesterd...   \n",
       "4      ADHD  I finally got my info together to send to my a...   \n",
       "\n",
       "                                        text_preproc  \\\n",
       "0  i finally cleaned my entire living space and d...   \n",
       "1                             i found this subreddit   \n",
       "2  made it through the first week of spring term ...   \n",
       "3  i finally got my adderall prescription yesterd...   \n",
       "4  i finally got my info together to send to my a...   \n",
       "\n",
       "                                              scores  compound score  \n",
       "0  {'neg': 0.0, 'neu': 0.77, 'pos': 0.23, 'compou...    0.7558   pos  \n",
       "1  {'neg': 0.0, 'neu': 1.0, 'pos': 0.0, 'compound...    0.0000   pos  \n",
       "2  {'neg': 0.0, 'neu': 1.0, 'pos': 0.0, 'compound...    0.0000   pos  \n",
       "3  {'neg': 0.0, 'neu': 0.859, 'pos': 0.141, 'comp...    0.8537   pos  \n",
       "4  {'neg': 0.0, 'neu': 0.772, 'pos': 0.228, 'comp...    0.7346   pos  "
      ]
     },
     "execution_count": 7,
     "metadata": {},
     "output_type": "execute_result"
    }
   ],
   "source": [
    "df.head()"
   ]
  },
  {
   "cell_type": "markdown",
   "id": "3ee2392c",
   "metadata": {},
   "source": [
    "#### Review values"
   ]
  },
  {
   "cell_type": "markdown",
   "id": "8a4b636a",
   "metadata": {},
   "source": [
    "* View histogram of compound distribution"
   ]
  },
  {
   "cell_type": "code",
   "execution_count": 8,
   "id": "6dd63610",
   "metadata": {},
   "outputs": [
    {
     "data": {
      "text/plain": [
       "<AxesSubplot: >"
      ]
     },
     "execution_count": 8,
     "metadata": {},
     "output_type": "execute_result"
    },
    {
     "data": {
      "image/png": "[encoded data removed]",
      "text/plain": [
       "<Figure size 1000x800 with 1 Axes>"
      ]
     },
     "metadata": {},
     "output_type": "display_data"
    }
   ],
   "source": [
    "df['compound'].hist()"
   ]
  },
  {
   "cell_type": "markdown",
   "id": "5ff242d6",
   "metadata": {},
   "source": [
    "* Count score values"
   ]
  },
  {
   "cell_type": "code",
   "execution_count": 9,
   "id": "5ccffe53",
   "metadata": {},
   "outputs": [
    {
     "data": {
      "text/plain": [
       "pos    6369\n",
       "neg    3177\n",
       "Name: score, dtype: int64"
      ]
     },
     "execution_count": 9,
     "metadata": {},
     "output_type": "execute_result"
    }
   ],
   "source": [
    "df['score'].value_counts()"
   ]
  },
  {
   "cell_type": "markdown",
   "id": "af744815",
   "metadata": {},
   "source": [
    "* Display pie chart"
   ]
  },
  {
   "cell_type": "code",
   "execution_count": 10,
   "id": "6e29abae",
   "metadata": {},
   "outputs": [
    {
     "data": {
      "image/png": "[encoded data removed]",
      "text/plain": [
       "<Figure size 1000x800 with 1 Axes>"
      ]
     },
     "metadata": {},
     "output_type": "display_data"
    }
   ],
   "source": [
    "plt.pie(df['score'].value_counts(), labels=df['score'].unique().tolist(), autopct='%1.1f%%')\n",
    "plt.show()"
   ]
  },
  {
   "cell_type": "markdown",
   "id": "d8903af7",
   "metadata": {},
   "source": [
    "#### Save to pickle"
   ]
  },
  {
   "cell_type": "code",
   "execution_count": 11,
   "id": "2571a42d",
   "metadata": {},
   "outputs": [],
   "source": [
    "df.to_pickle('df.pickle') "
   ]
  }
 ],
 "metadata": {
  "kernelspec": {
   "display_name": "Python 3 (ipykernel)",
   "language": "python",
   "name": "python3"
  },
  "language_info": {
   "codemirror_mode": {
    "name": "ipython",
    "version": 3
   },
   "file_extension": ".py",
   "mimetype": "text/x-python",
   "name": "python",
   "nbconvert_exporter": "python",
   "pygments_lexer": "ipython3",
   "version": "3.9.12"
  }
 },
 "nbformat": 4,
 "nbformat_minor": 5
}
