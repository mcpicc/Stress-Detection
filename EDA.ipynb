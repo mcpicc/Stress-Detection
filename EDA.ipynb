{
 "cells": [
  {
   "cell_type": "markdown",
   "id": "6cc7d17b",
   "metadata": {},
   "source": [
    "# Creating a Stress Detection Tool using Data From Subreddits: EDA"
   ]
  },
  {
   "cell_type": "markdown",
   "id": "68882d6d",
   "metadata": {},
   "source": [
    "In this notebook I will be performing EDA on the dataset I created in the first notebook (data wrangling).  I will be breaking down things like which subreddits the comments are coming from, how long the average comment in the dataset is, and if there are any interesting and relevant ngrams within each category (stress, no stress) of the dataset."
   ]
  },
  {
   "cell_type": "markdown",
   "id": "9791a052",
   "metadata": {},
   "source": [
    "#### Import necessary libraries"
   ]
  },
  {
   "cell_type": "code",
   "execution_count": 1,
   "id": "248dad92",
   "metadata": {},
   "outputs": [],
   "source": [
    "import pandas as pd\n",
    "import numpy as np\n",
    "\n",
    "import matplotlib.pyplot as plt\n",
    "import seaborn as sns\n",
    "\n",
    "from tqdm import trange\n",
    "from collections import Counter\n",
    "from wordcloud import WordCloud, STOPWORDS\n",
    "\n",
    "import re\n",
    "\n",
    "import nltk\n",
    "from nltk.util import ngrams\n",
    "from nltk.collocations import BigramCollocationFinder\n",
    "from nltk.metrics import BigramAssocMeasures\n",
    "from nltk import FreqDist\n",
    "from nltk.corpus import stopwords\n",
    "\n",
    "from sklearn.feature_extraction.text import CountVectorizer\n",
    "\n",
    "import pickle"
   ]
  },
  {
   "cell_type": "markdown",
   "id": "ea3dbca3",
   "metadata": {},
   "source": [
    "#### Import dataframe from pickle"
   ]
  },
  {
   "cell_type": "code",
   "execution_count": 2,
   "id": "5d3f6b52",
   "metadata": {},
   "outputs": [],
   "source": [
    "df = pd.read_pickle('df.pickle')"
   ]
  },
  {
   "cell_type": "markdown",
   "id": "8592b029",
   "metadata": {},
   "source": [
    "#### Review dataframe to make sure everything looks right\n",
    "* .head and .tail\n",
    "* .shape"
   ]
  },
  {
   "cell_type": "code",
   "execution_count": 3,
   "id": "31936b3d",
   "metadata": {},
   "outputs": [
    {
     "data": {
      "text/html": [
       "<div>\n",
       "<style scoped>\n",
       "    .dataframe tbody tr th:only-of-type {\n",
       "        vertical-align: middle;\n",
       "    }\n",
       "\n",
       "    .dataframe tbody tr th {\n",
       "        vertical-align: top;\n",
       "    }\n",
       "\n",
       "    .dataframe thead th {\n",
       "        text-align: right;\n",
       "    }\n",
       "</style>\n",
       "<table border=\"1\" class=\"dataframe\">\n",
       "  <thead>\n",
       "    <tr style=\"text-align: right;\">\n",
       "      <th></th>\n",
       "      <th>subreddit</th>\n",
       "      <th>text</th>\n",
       "      <th>text_preproc</th>\n",
       "      <th>label</th>\n",
       "      <th>stress_label</th>\n",
       "    </tr>\n",
       "  </thead>\n",
       "  <tbody>\n",
       "    <tr>\n",
       "      <th>0</th>\n",
       "      <td>happy</td>\n",
       "      <td>Welcome to /r/happy where we support people in...</td>\n",
       "      <td>welcome to rhappy where we support people in t...</td>\n",
       "      <td>0</td>\n",
       "      <td>no stress</td>\n",
       "    </tr>\n",
       "    <tr>\n",
       "      <th>1</th>\n",
       "      <td>happy</td>\n",
       "      <td>You are good people, Mike.</td>\n",
       "      <td>you are good people mike</td>\n",
       "      <td>0</td>\n",
       "      <td>no stress</td>\n",
       "    </tr>\n",
       "    <tr>\n",
       "      <th>2</th>\n",
       "      <td>happy</td>\n",
       "      <td>Wanna come to Knight Lake near Waupaca, Wiscon...</td>\n",
       "      <td>wanna come to knight lake near waupaca wiscons...</td>\n",
       "      <td>0</td>\n",
       "      <td>no stress</td>\n",
       "    </tr>\n",
       "    <tr>\n",
       "      <th>3</th>\n",
       "      <td>happy</td>\n",
       "      <td>“But, I thought the old lady dropped it into t...</td>\n",
       "      <td>“but i thought the old lady dropped it into th...</td>\n",
       "      <td>0</td>\n",
       "      <td>no stress</td>\n",
       "    </tr>\n",
       "    <tr>\n",
       "      <th>4</th>\n",
       "      <td>happy</td>\n",
       "      <td>Yay! Thank you for being kind and returning it!</td>\n",
       "      <td>yay thank you for being kind and returning it</td>\n",
       "      <td>0</td>\n",
       "      <td>no stress</td>\n",
       "    </tr>\n",
       "  </tbody>\n",
       "</table>\n",
       "</div>"
      ],
      "text/plain": [
       "  subreddit                                               text  \\\n",
       "0     happy  Welcome to /r/happy where we support people in...   \n",
       "1     happy                         You are good people, Mike.   \n",
       "2     happy  Wanna come to Knight Lake near Waupaca, Wiscon...   \n",
       "3     happy  “But, I thought the old lady dropped it into t...   \n",
       "4     happy    Yay! Thank you for being kind and returning it!   \n",
       "\n",
       "                                        text_preproc  label stress_label  \n",
       "0  welcome to rhappy where we support people in t...      0    no stress  \n",
       "1                           you are good people mike      0    no stress  \n",
       "2  wanna come to knight lake near waupaca wiscons...      0    no stress  \n",
       "3  “but i thought the old lady dropped it into th...      0    no stress  \n",
       "4      yay thank you for being kind and returning it      0    no stress  "
      ]
     },
     "execution_count": 3,
     "metadata": {},
     "output_type": "execute_result"
    }
   ],
   "source": [
    "df.head(5)"
   ]
  },
  {
   "cell_type": "code",
   "execution_count": 4,
   "id": "5e689eeb",
   "metadata": {},
   "outputs": [
    {
     "data": {
      "text/html": [
       "<div>\n",
       "<style scoped>\n",
       "    .dataframe tbody tr th:only-of-type {\n",
       "        vertical-align: middle;\n",
       "    }\n",
       "\n",
       "    .dataframe tbody tr th {\n",
       "        vertical-align: top;\n",
       "    }\n",
       "\n",
       "    .dataframe thead th {\n",
       "        text-align: right;\n",
       "    }\n",
       "</style>\n",
       "<table border=\"1\" class=\"dataframe\">\n",
       "  <thead>\n",
       "    <tr style=\"text-align: right;\">\n",
       "      <th></th>\n",
       "      <th>subreddit</th>\n",
       "      <th>text</th>\n",
       "      <th>text_preproc</th>\n",
       "      <th>label</th>\n",
       "      <th>stress_label</th>\n",
       "    </tr>\n",
       "  </thead>\n",
       "  <tbody>\n",
       "    <tr>\n",
       "      <th>5136</th>\n",
       "      <td>relationships</td>\n",
       "      <td>* Her, a week ago: Precious, how are you? (I i...</td>\n",
       "      <td>her a week ago precious how are you i ignored...</td>\n",
       "      <td>0</td>\n",
       "      <td>no stress</td>\n",
       "    </tr>\n",
       "    <tr>\n",
       "      <th>5137</th>\n",
       "      <td>ptsd</td>\n",
       "      <td>I don't have the ability to cope with it anymo...</td>\n",
       "      <td>i dont have the ability to cope with it anymor...</td>\n",
       "      <td>1</td>\n",
       "      <td>stress</td>\n",
       "    </tr>\n",
       "    <tr>\n",
       "      <th>5138</th>\n",
       "      <td>anxiety</td>\n",
       "      <td>In case this is the first time you're reading ...</td>\n",
       "      <td>in case this is the first time youre reading t...</td>\n",
       "      <td>0</td>\n",
       "      <td>no stress</td>\n",
       "    </tr>\n",
       "    <tr>\n",
       "      <th>5139</th>\n",
       "      <td>almosthomeless</td>\n",
       "      <td>Do you find this normal? They have a good rela...</td>\n",
       "      <td>do you find this normal they have a good relat...</td>\n",
       "      <td>0</td>\n",
       "      <td>no stress</td>\n",
       "    </tr>\n",
       "    <tr>\n",
       "      <th>5140</th>\n",
       "      <td>ptsd</td>\n",
       "      <td>I was talking to my mom this morning and she s...</td>\n",
       "      <td>i was talking to my mom this morning and she s...</td>\n",
       "      <td>1</td>\n",
       "      <td>stress</td>\n",
       "    </tr>\n",
       "  </tbody>\n",
       "</table>\n",
       "</div>"
      ],
      "text/plain": [
       "           subreddit                                               text  \\\n",
       "5136   relationships  * Her, a week ago: Precious, how are you? (I i...   \n",
       "5137            ptsd  I don't have the ability to cope with it anymo...   \n",
       "5138         anxiety  In case this is the first time you're reading ...   \n",
       "5139  almosthomeless  Do you find this normal? They have a good rela...   \n",
       "5140            ptsd  I was talking to my mom this morning and she s...   \n",
       "\n",
       "                                           text_preproc  label stress_label  \n",
       "5136   her a week ago precious how are you i ignored...      0    no stress  \n",
       "5137  i dont have the ability to cope with it anymor...      1       stress  \n",
       "5138  in case this is the first time youre reading t...      0    no stress  \n",
       "5139  do you find this normal they have a good relat...      0    no stress  \n",
       "5140  i was talking to my mom this morning and she s...      1       stress  "
      ]
     },
     "execution_count": 4,
     "metadata": {},
     "output_type": "execute_result"
    }
   ],
   "source": [
    "df.tail(5)"
   ]
  },
  {
   "cell_type": "code",
   "execution_count": 5,
   "id": "6b9f8483",
   "metadata": {},
   "outputs": [
    {
     "data": {
      "text/plain": [
       "(5141, 5)"
      ]
     },
     "execution_count": 5,
     "metadata": {},
     "output_type": "execute_result"
    }
   ],
   "source": [
    "df.shape"
   ]
  },
  {
   "cell_type": "markdown",
   "id": "0af799a5",
   "metadata": {},
   "source": [
    "#### Count occurences of each subreddit"
   ]
  },
  {
   "cell_type": "code",
   "execution_count": 6,
   "id": "51567279",
   "metadata": {},
   "outputs": [
    {
     "data": {
      "text/plain": [
       "happy               1217\n",
       "ptsd                 711\n",
       "relationships        694\n",
       "anxiety              650\n",
       "domesticviolence     388\n",
       "goodnews             371\n",
       "assistance           355\n",
       "survivorsofabuse     315\n",
       "homeless             220\n",
       "almosthomeless        99\n",
       "stress                78\n",
       "food_pantry           43\n",
       "Name: subreddit, dtype: int64"
      ]
     },
     "execution_count": 6,
     "metadata": {},
     "output_type": "execute_result"
    }
   ],
   "source": [
    "df['subreddit'].value_counts()"
   ]
  },
  {
   "cell_type": "markdown",
   "id": "9158c116",
   "metadata": {},
   "source": [
    "#### Subreddits Pie Chart:\n",
    "* Here we can see the breakdown of which subreddits the comments came from\n",
    "* Although we called an equal number of 'top posts' from each of these subreddits, each subreddit may have had a different number of top posts and/or number of comments per top post, leading to the discrepencies"
   ]
  },
  {
   "cell_type": "code",
   "execution_count": 7,
   "id": "30a4c835",
   "metadata": {},
   "outputs": [
    {
     "data": {
      "image/png": "[encoded data removed]",
      "text/plain": [
       "<Figure size 640x480 with 1 Axes>"
      ]
     },
     "metadata": {},
     "output_type": "display_data"
    }
   ],
   "source": [
    "plt.pie(df['subreddit'].value_counts(), labels=df['subreddit'].unique().tolist(), autopct='%1.1f%%')\n",
    "plt.show()"
   ]
  },
  {
   "cell_type": "markdown",
   "id": "74a329c1",
   "metadata": {},
   "source": [
    "#### Look at average comment length\n",
    "* Here we'll look at the min, max, and average length of comments\n",
    "* Using a histogram we can see that very few comments go above 1000 characters"
   ]
  },
  {
   "cell_type": "code",
   "execution_count": 8,
   "id": "71cf0993",
   "metadata": {},
   "outputs": [
    {
     "name": "stdout",
     "output_type": "stream",
     "text": [
      "Min length: 1\n",
      "Max length: 6262\n",
      "Average Length :  349.50651624197627\n"
     ]
    }
   ],
   "source": [
    "print('Min length: {}'.format(min(df['text_preproc'].str.len())))\n",
    "print('Max length: {}'.format(max(df['text_preproc'].str.len())))\n",
    "print('Average Length :  {}'.format(df['text_preproc'].str.len().mean()))"
   ]
  },
  {
   "cell_type": "code",
   "execution_count": 9,
   "id": "fe7dc1c3",
   "metadata": {},
   "outputs": [
    {
     "data": {
      "text/plain": [
       "<AxesSubplot: >"
      ]
     },
     "execution_count": 9,
     "metadata": {},
     "output_type": "execute_result"
    },
    {
     "data": {
      "image/png": "[encoded data removed]",
      "text/plain": [
       "<Figure size 640x480 with 1 Axes>"
      ]
     },
     "metadata": {},
     "output_type": "display_data"
    }
   ],
   "source": [
    "df['text_preproc'].str.len().hist(bins=100)"
   ]
  },
  {
   "cell_type": "markdown",
   "id": "a4fb43cf",
   "metadata": {},
   "source": [
    "#### Finding most used words, bigrams, trigrams\n",
    "* First I am splitting the datasets into 'stress' and 'no stress'\n",
    "* I am then making a corpus by iterating through the preprocessed column of the dataframe"
   ]
  },
  {
   "cell_type": "code",
   "execution_count": 10,
   "id": "2f9fcc68",
   "metadata": {},
   "outputs": [],
   "source": [
    "df_stress = df[df[\"stress_label\"] == 'stress']\n",
    "df_nostress = df[df[\"stress_label\"] == 'no stress']"
   ]
  },
  {
   "cell_type": "code",
   "execution_count": 11,
   "id": "54d218bb",
   "metadata": {},
   "outputs": [],
   "source": [
    "s_corpus = {}\n",
    "s_corpus_string = ''\n",
    "for t in df_stress:\n",
    "    s_corpus[t]= ' '.join(df_stress['text_preproc'].tolist())\n",
    "s_corpus = list(s_corpus.values())\n",
    "for x in s_corpus:\n",
    "    s_corpus_string += x\n",
    "    \n",
    "s_corpus_string = re.sub(r'[^\\w\\s]', '', s_corpus_string)"
   ]
  },
  {
   "cell_type": "code",
   "execution_count": 12,
   "id": "92ba0ac0",
   "metadata": {},
   "outputs": [],
   "source": [
    "n_corpus = {}\n",
    "n_corpus_string = ''\n",
    "for t in df_nostress:\n",
    "    n_corpus[t]= ' '.join(df_nostress['text_preproc'].tolist())\n",
    "n_corpus = list(n_corpus.values())\n",
    "for x in n_corpus:\n",
    "    n_corpus_string += x\n",
    "    \n",
    "n_corpus_string = re.sub(r'[^\\w\\s]', '', n_corpus_string)"
   ]
  },
  {
   "cell_type": "markdown",
   "id": "5e291936",
   "metadata": {},
   "source": [
    "#### Removing stopwords\n",
    "* First I am reviewing the default stopwords and then adding some more that are specific to my data"
   ]
  },
  {
   "cell_type": "code",
   "execution_count": 13,
   "id": "5a2aa3e1",
   "metadata": {},
   "outputs": [
    {
     "name": "stdout",
     "output_type": "stream",
     "text": [
      "['i', 'me', 'my', 'myself', 'we', 'our', 'ours', 'ourselves', 'you', \"you're\", \"you've\", \"you'll\", \"you'd\", 'your', 'yours', 'yourself', 'yourselves', 'he', 'him', 'his', 'himself', 'she', \"she's\", 'her', 'hers', 'herself', 'it', \"it's\", 'its', 'itself', 'they', 'them', 'their', 'theirs', 'themselves', 'what', 'which', 'who', 'whom', 'this', 'that', \"that'll\", 'these', 'those', 'am', 'is', 'are', 'was', 'were', 'be', 'been', 'being', 'have', 'has', 'had', 'having', 'do', 'does', 'did', 'doing', 'a', 'an', 'the', 'and', 'but', 'if', 'or', 'because', 'as', 'until', 'while', 'of', 'at', 'by', 'for', 'with', 'about', 'against', 'between', 'into', 'through', 'during', 'before', 'after', 'above', 'below', 'to', 'from', 'up', 'down', 'in', 'out', 'on', 'off', 'over', 'under', 'again', 'further', 'then', 'once', 'here', 'there', 'when', 'where', 'why', 'how', 'all', 'any', 'both', 'each', 'few', 'more', 'most', 'other', 'some', 'such', 'no', 'nor', 'not', 'only', 'own', 'same', 'so', 'than', 'too', 'very', 's', 't', 'can', 'will', 'just', 'don', \"don't\", 'should', \"should've\", 'now', 'd', 'll', 'm', 'o', 're', 've', 'y', 'ain', 'aren', \"aren't\", 'couldn', \"couldn't\", 'didn', \"didn't\", 'doesn', \"doesn't\", 'hadn', \"hadn't\", 'hasn', \"hasn't\", 'haven', \"haven't\", 'isn', \"isn't\", 'ma', 'mightn', \"mightn't\", 'mustn', \"mustn't\", 'needn', \"needn't\", 'shan', \"shan't\", 'shouldn', \"shouldn't\", 'wasn', \"wasn't\", 'weren', \"weren't\", 'won', \"won't\", 'wouldn', \"wouldn't\"]\n"
     ]
    }
   ],
   "source": [
    "stopwords = stopwords.words('english')\n",
    "print(stopwords)"
   ]
  },
  {
   "cell_type": "code",
   "execution_count": 14,
   "id": "2dc4d571",
   "metadata": {},
   "outputs": [],
   "source": [
    "stop_list = ['moderator', 'bot', 'moderators', 'bots', 'contact', 'join', 'subreddit', 'discord', 'automatically', 'invite', 'link']\n",
    "stpwrd = nltk.corpus.stopwords.words('english')\n",
    "stpwrd.extend(stop_list)"
   ]
  },
  {
   "cell_type": "code",
   "execution_count": 15,
   "id": "2c7d1dd3",
   "metadata": {},
   "outputs": [],
   "source": [
    "s_corpus_string = ' '.join([word for word in s_corpus_string.split() if word not in stpwrd])"
   ]
  },
  {
   "cell_type": "code",
   "execution_count": 16,
   "id": "0de1f861",
   "metadata": {},
   "outputs": [],
   "source": [
    "n_corpus_string = ' '.join([word for word in n_corpus_string.split() if word not in stpwrd])"
   ]
  },
  {
   "cell_type": "markdown",
   "id": "deaa0891",
   "metadata": {},
   "source": [
    "#### Computing frequency and sorting values\n",
    "* Here I am creating two functions\n",
    "* The first function will take the corpus and n value (2 for bigram, 3 for trigram, and so on if desired) and find the ngrams that exist and frequency of each\n",
    "* The second function will order the dictionary that the first function returned and return the top 20 values in an easy to read format"
   ]
  },
  {
   "cell_type": "code",
   "execution_count": 17,
   "id": "2b292c9e",
   "metadata": {},
   "outputs": [],
   "source": [
    "def compute_freq(sentence, n_value):\n",
    "\n",
    "    tokens = nltk.word_tokenize(sentence)\n",
    "    ngrams = nltk.ngrams(tokens, n_value)\n",
    "    ngram_fdist = nltk.FreqDist(ngrams)\n",
    "    return ngram_fdist"
   ]
  },
  {
   "cell_type": "code",
   "execution_count": 18,
   "id": "beceb810",
   "metadata": {},
   "outputs": [],
   "source": [
    "def sort_freq(value):\n",
    "    value = sorted(freq_dist.items(), key=lambda x:x[1], reverse=True)\n",
    "    value = dict(value)\n",
    "    freq_df = pd.DataFrame.from_dict(value, orient='index')\n",
    "    freq_df = freq_df.reset_index()\n",
    "    freq_df.columns = ['ngram', 'count']\n",
    "    return freq_df.head(20)"
   ]
  },
  {
   "cell_type": "markdown",
   "id": "eb708058",
   "metadata": {},
   "source": [
    "#### Stress bigram:\n",
    "* Some notable stress bigrams: 'can not,' 'dont want,' 'panic attack,' 'panic attacks'"
   ]
  },
  {
   "cell_type": "code",
   "execution_count": 19,
   "id": "2cfefefe",
   "metadata": {},
   "outputs": [
    {
     "data": {
      "text/html": [
       "<div>\n",
       "<style scoped>\n",
       "    .dataframe tbody tr th:only-of-type {\n",
       "        vertical-align: middle;\n",
       "    }\n",
       "\n",
       "    .dataframe tbody tr th {\n",
       "        vertical-align: top;\n",
       "    }\n",
       "\n",
       "    .dataframe thead th {\n",
       "        text-align: right;\n",
       "    }\n",
       "</style>\n",
       "<table border=\"1\" class=\"dataframe\">\n",
       "  <thead>\n",
       "    <tr style=\"text-align: right;\">\n",
       "      <th></th>\n",
       "      <th>ngram</th>\n",
       "      <th>count</th>\n",
       "    </tr>\n",
       "  </thead>\n",
       "  <tbody>\n",
       "    <tr>\n",
       "      <th>0</th>\n",
       "      <td>(feel, like)</td>\n",
       "      <td>1480</td>\n",
       "    </tr>\n",
       "    <tr>\n",
       "      <th>1</th>\n",
       "      <td>(dont, know)</td>\n",
       "      <td>1260</td>\n",
       "    </tr>\n",
       "    <tr>\n",
       "      <th>2</th>\n",
       "      <td>(dont, want)</td>\n",
       "      <td>500</td>\n",
       "    </tr>\n",
       "    <tr>\n",
       "      <th>3</th>\n",
       "      <td>(like, im)</td>\n",
       "      <td>405</td>\n",
       "    </tr>\n",
       "    <tr>\n",
       "      <th>4</th>\n",
       "      <td>(can, not)</td>\n",
       "      <td>310</td>\n",
       "    </tr>\n",
       "    <tr>\n",
       "      <th>5</th>\n",
       "      <td>(im, going)</td>\n",
       "      <td>280</td>\n",
       "    </tr>\n",
       "    <tr>\n",
       "      <th>6</th>\n",
       "      <td>(even, though)</td>\n",
       "      <td>265</td>\n",
       "    </tr>\n",
       "    <tr>\n",
       "      <th>7</th>\n",
       "      <td>(im, scared)</td>\n",
       "      <td>265</td>\n",
       "    </tr>\n",
       "    <tr>\n",
       "      <th>8</th>\n",
       "      <td>(panic, attacks)</td>\n",
       "      <td>255</td>\n",
       "    </tr>\n",
       "    <tr>\n",
       "      <th>9</th>\n",
       "      <td>(anyone, else)</td>\n",
       "      <td>250</td>\n",
       "    </tr>\n",
       "    <tr>\n",
       "      <th>10</th>\n",
       "      <td>(dont, even)</td>\n",
       "      <td>225</td>\n",
       "    </tr>\n",
       "    <tr>\n",
       "      <th>11</th>\n",
       "      <td>(panic, attack)</td>\n",
       "      <td>225</td>\n",
       "    </tr>\n",
       "    <tr>\n",
       "      <th>12</th>\n",
       "      <td>(im, trying)</td>\n",
       "      <td>210</td>\n",
       "    </tr>\n",
       "    <tr>\n",
       "      <th>13</th>\n",
       "      <td>(im, sure)</td>\n",
       "      <td>210</td>\n",
       "    </tr>\n",
       "    <tr>\n",
       "      <th>14</th>\n",
       "      <td>(feels, like)</td>\n",
       "      <td>205</td>\n",
       "    </tr>\n",
       "    <tr>\n",
       "      <th>15</th>\n",
       "      <td>(every, day)</td>\n",
       "      <td>195</td>\n",
       "    </tr>\n",
       "    <tr>\n",
       "      <th>16</th>\n",
       "      <td>(cant, even)</td>\n",
       "      <td>195</td>\n",
       "    </tr>\n",
       "    <tr>\n",
       "      <th>17</th>\n",
       "      <td>(felt, like)</td>\n",
       "      <td>195</td>\n",
       "    </tr>\n",
       "    <tr>\n",
       "      <th>18</th>\n",
       "      <td>(know, im)</td>\n",
       "      <td>190</td>\n",
       "    </tr>\n",
       "    <tr>\n",
       "      <th>19</th>\n",
       "      <td>(ive, never)</td>\n",
       "      <td>185</td>\n",
       "    </tr>\n",
       "  </tbody>\n",
       "</table>\n",
       "</div>"
      ],
      "text/plain": [
       "               ngram  count\n",
       "0       (feel, like)   1480\n",
       "1       (dont, know)   1260\n",
       "2       (dont, want)    500\n",
       "3         (like, im)    405\n",
       "4         (can, not)    310\n",
       "5        (im, going)    280\n",
       "6     (even, though)    265\n",
       "7       (im, scared)    265\n",
       "8   (panic, attacks)    255\n",
       "9     (anyone, else)    250\n",
       "10      (dont, even)    225\n",
       "11   (panic, attack)    225\n",
       "12      (im, trying)    210\n",
       "13        (im, sure)    210\n",
       "14     (feels, like)    205\n",
       "15      (every, day)    195\n",
       "16      (cant, even)    195\n",
       "17      (felt, like)    195\n",
       "18        (know, im)    190\n",
       "19      (ive, never)    185"
      ]
     },
     "execution_count": 19,
     "metadata": {},
     "output_type": "execute_result"
    }
   ],
   "source": [
    "freq_dist = compute_freq(s_corpus_string, 2)\n",
    "\n",
    "sort_freq(freq_dist)"
   ]
  },
  {
   "cell_type": "markdown",
   "id": "f4e3f8a1",
   "metadata": {},
   "source": [
    "#### Stress trigrams:\n",
    "* Many of the stress trigrams seem like an expansion of the bigrams\n",
    "* Many of these trigrams include some form of the word 'feel,' 'dont,' 'know,' or some combination of those\n",
    "* Other notable trigrams: 'mental health issues,' 'feel like shit'"
   ]
  },
  {
   "cell_type": "code",
   "execution_count": 20,
   "id": "3bb8c3a2",
   "metadata": {
    "scrolled": false
   },
   "outputs": [
    {
     "data": {
      "text/html": [
       "<div>\n",
       "<style scoped>\n",
       "    .dataframe tbody tr th:only-of-type {\n",
       "        vertical-align: middle;\n",
       "    }\n",
       "\n",
       "    .dataframe tbody tr th {\n",
       "        vertical-align: top;\n",
       "    }\n",
       "\n",
       "    .dataframe thead th {\n",
       "        text-align: right;\n",
       "    }\n",
       "</style>\n",
       "<table border=\"1\" class=\"dataframe\">\n",
       "  <thead>\n",
       "    <tr style=\"text-align: right;\">\n",
       "      <th></th>\n",
       "      <th>ngram</th>\n",
       "      <th>count</th>\n",
       "    </tr>\n",
       "  </thead>\n",
       "  <tbody>\n",
       "    <tr>\n",
       "      <th>0</th>\n",
       "      <td>(feel, like, im)</td>\n",
       "      <td>275</td>\n",
       "    </tr>\n",
       "    <tr>\n",
       "      <th>1</th>\n",
       "      <td>(dont, even, know)</td>\n",
       "      <td>140</td>\n",
       "    </tr>\n",
       "    <tr>\n",
       "      <th>2</th>\n",
       "      <td>(dont, feel, like)</td>\n",
       "      <td>80</td>\n",
       "    </tr>\n",
       "    <tr>\n",
       "      <th>3</th>\n",
       "      <td>(dont, know, feel)</td>\n",
       "      <td>75</td>\n",
       "    </tr>\n",
       "    <tr>\n",
       "      <th>4</th>\n",
       "      <td>(dont, know, anymore)</td>\n",
       "      <td>75</td>\n",
       "    </tr>\n",
       "    <tr>\n",
       "      <th>5</th>\n",
       "      <td>(dont, really, know)</td>\n",
       "      <td>70</td>\n",
       "    </tr>\n",
       "    <tr>\n",
       "      <th>6</th>\n",
       "      <td>(long, story, short)</td>\n",
       "      <td>60</td>\n",
       "    </tr>\n",
       "    <tr>\n",
       "      <th>7</th>\n",
       "      <td>(dont, know, im)</td>\n",
       "      <td>60</td>\n",
       "    </tr>\n",
       "    <tr>\n",
       "      <th>8</th>\n",
       "      <td>(know, feel, like)</td>\n",
       "      <td>55</td>\n",
       "    </tr>\n",
       "    <tr>\n",
       "      <th>9</th>\n",
       "      <td>(feel, like, cant)</td>\n",
       "      <td>50</td>\n",
       "    </tr>\n",
       "    <tr>\n",
       "      <th>10</th>\n",
       "      <td>(really, dont, know)</td>\n",
       "      <td>45</td>\n",
       "    </tr>\n",
       "    <tr>\n",
       "      <th>11</th>\n",
       "      <td>(feel, like, shit)</td>\n",
       "      <td>45</td>\n",
       "    </tr>\n",
       "    <tr>\n",
       "      <th>12</th>\n",
       "      <td>(mental, health, issues)</td>\n",
       "      <td>45</td>\n",
       "    </tr>\n",
       "    <tr>\n",
       "      <th>13</th>\n",
       "      <td>(like, im, going)</td>\n",
       "      <td>40</td>\n",
       "    </tr>\n",
       "    <tr>\n",
       "      <th>14</th>\n",
       "      <td>(dont, want, give)</td>\n",
       "      <td>35</td>\n",
       "    </tr>\n",
       "    <tr>\n",
       "      <th>15</th>\n",
       "      <td>(would, greatly, appreciated)</td>\n",
       "      <td>35</td>\n",
       "    </tr>\n",
       "    <tr>\n",
       "      <th>16</th>\n",
       "      <td>(feeling, like, im)</td>\n",
       "      <td>35</td>\n",
       "    </tr>\n",
       "    <tr>\n",
       "      <th>17</th>\n",
       "      <td>(feel, like, deserve)</td>\n",
       "      <td>35</td>\n",
       "    </tr>\n",
       "    <tr>\n",
       "      <th>18</th>\n",
       "      <td>(dont, want, go)</td>\n",
       "      <td>35</td>\n",
       "    </tr>\n",
       "    <tr>\n",
       "      <th>19</th>\n",
       "      <td>(feel, like, need)</td>\n",
       "      <td>30</td>\n",
       "    </tr>\n",
       "  </tbody>\n",
       "</table>\n",
       "</div>"
      ],
      "text/plain": [
       "                            ngram  count\n",
       "0                (feel, like, im)    275\n",
       "1              (dont, even, know)    140\n",
       "2              (dont, feel, like)     80\n",
       "3              (dont, know, feel)     75\n",
       "4           (dont, know, anymore)     75\n",
       "5            (dont, really, know)     70\n",
       "6            (long, story, short)     60\n",
       "7                (dont, know, im)     60\n",
       "8              (know, feel, like)     55\n",
       "9              (feel, like, cant)     50\n",
       "10           (really, dont, know)     45\n",
       "11             (feel, like, shit)     45\n",
       "12       (mental, health, issues)     45\n",
       "13              (like, im, going)     40\n",
       "14             (dont, want, give)     35\n",
       "15  (would, greatly, appreciated)     35\n",
       "16            (feeling, like, im)     35\n",
       "17          (feel, like, deserve)     35\n",
       "18               (dont, want, go)     35\n",
       "19             (feel, like, need)     30"
      ]
     },
     "execution_count": 20,
     "metadata": {},
     "output_type": "execute_result"
    }
   ],
   "source": [
    "freq_dist = compute_freq(s_corpus_string, 3)\n",
    "\n",
    "sort_freq(freq_dist)"
   ]
  },
  {
   "cell_type": "markdown",
   "id": "444454ff",
   "metadata": {},
   "source": [
    "#### No stress bigrams:\n",
    "* Even though I filted out some additonal stopwords specific to reddit/subreddits, it is clear that not all of them can be filtered out\n",
    "* For example, 'action performed' is obviously a bot comment, and based on frequency, we can assume 'performed please,' and  'questions concerns' are as well\n",
    "* Ignoring ngrams such as these, some bigrams of not in the no stress category are: 'good things', and 'youre welcome'"
   ]
  },
  {
   "cell_type": "code",
   "execution_count": 21,
   "id": "2022b035",
   "metadata": {
    "scrolled": false
   },
   "outputs": [
    {
     "data": {
      "text/html": [
       "<div>\n",
       "<style scoped>\n",
       "    .dataframe tbody tr th:only-of-type {\n",
       "        vertical-align: middle;\n",
       "    }\n",
       "\n",
       "    .dataframe tbody tr th {\n",
       "        vertical-align: top;\n",
       "    }\n",
       "\n",
       "    .dataframe thead th {\n",
       "        text-align: right;\n",
       "    }\n",
       "</style>\n",
       "<table border=\"1\" class=\"dataframe\">\n",
       "  <thead>\n",
       "    <tr style=\"text-align: right;\">\n",
       "      <th></th>\n",
       "      <th>ngram</th>\n",
       "      <th>count</th>\n",
       "    </tr>\n",
       "  </thead>\n",
       "  <tbody>\n",
       "    <tr>\n",
       "      <th>0</th>\n",
       "      <td>(action, performed)</td>\n",
       "      <td>990</td>\n",
       "    </tr>\n",
       "    <tr>\n",
       "      <th>1</th>\n",
       "      <td>(performed, please)</td>\n",
       "      <td>990</td>\n",
       "    </tr>\n",
       "    <tr>\n",
       "      <th>2</th>\n",
       "      <td>(questions, concerns)</td>\n",
       "      <td>990</td>\n",
       "    </tr>\n",
       "    <tr>\n",
       "      <th>3</th>\n",
       "      <td>(dont, know)</td>\n",
       "      <td>810</td>\n",
       "    </tr>\n",
       "    <tr>\n",
       "      <th>4</th>\n",
       "      <td>(youre, welcome)</td>\n",
       "      <td>560</td>\n",
       "    </tr>\n",
       "    <tr>\n",
       "      <th>5</th>\n",
       "      <td>(dont, feel)</td>\n",
       "      <td>545</td>\n",
       "    </tr>\n",
       "    <tr>\n",
       "      <th>6</th>\n",
       "      <td>(even, dont)</td>\n",
       "      <td>525</td>\n",
       "    </tr>\n",
       "    <tr>\n",
       "      <th>7</th>\n",
       "      <td>(know, dont)</td>\n",
       "      <td>520</td>\n",
       "    </tr>\n",
       "    <tr>\n",
       "      <th>8</th>\n",
       "      <td>(dont, give)</td>\n",
       "      <td>520</td>\n",
       "    </tr>\n",
       "    <tr>\n",
       "      <th>9</th>\n",
       "      <td>(hang, around)</td>\n",
       "      <td>515</td>\n",
       "    </tr>\n",
       "    <tr>\n",
       "      <th>10</th>\n",
       "      <td>(good, things)</td>\n",
       "      <td>510</td>\n",
       "    </tr>\n",
       "    <tr>\n",
       "      <th>11</th>\n",
       "      <td>(dont, say)</td>\n",
       "      <td>505</td>\n",
       "    </tr>\n",
       "    <tr>\n",
       "      <th>12</th>\n",
       "      <td>(say, anything)</td>\n",
       "      <td>505</td>\n",
       "    </tr>\n",
       "    <tr>\n",
       "      <th>13</th>\n",
       "      <td>(want, give)</td>\n",
       "      <td>505</td>\n",
       "    </tr>\n",
       "    <tr>\n",
       "      <th>14</th>\n",
       "      <td>(come, us)</td>\n",
       "      <td>505</td>\n",
       "    </tr>\n",
       "    <tr>\n",
       "      <th>15</th>\n",
       "      <td>(cant, think)</td>\n",
       "      <td>500</td>\n",
       "    </tr>\n",
       "    <tr>\n",
       "      <th>16</th>\n",
       "      <td>(think, anything)</td>\n",
       "      <td>500</td>\n",
       "    </tr>\n",
       "    <tr>\n",
       "      <th>17</th>\n",
       "      <td>(thanks, contributing)</td>\n",
       "      <td>500</td>\n",
       "    </tr>\n",
       "    <tr>\n",
       "      <th>18</th>\n",
       "      <td>(contributing, rgoodnews)</td>\n",
       "      <td>500</td>\n",
       "    </tr>\n",
       "    <tr>\n",
       "      <th>19</th>\n",
       "      <td>(rgoodnews, enjoy)</td>\n",
       "      <td>500</td>\n",
       "    </tr>\n",
       "  </tbody>\n",
       "</table>\n",
       "</div>"
      ],
      "text/plain": [
       "                        ngram  count\n",
       "0         (action, performed)    990\n",
       "1         (performed, please)    990\n",
       "2       (questions, concerns)    990\n",
       "3                (dont, know)    810\n",
       "4            (youre, welcome)    560\n",
       "5                (dont, feel)    545\n",
       "6                (even, dont)    525\n",
       "7                (know, dont)    520\n",
       "8                (dont, give)    520\n",
       "9              (hang, around)    515\n",
       "10             (good, things)    510\n",
       "11                (dont, say)    505\n",
       "12            (say, anything)    505\n",
       "13               (want, give)    505\n",
       "14                 (come, us)    505\n",
       "15              (cant, think)    500\n",
       "16          (think, anything)    500\n",
       "17     (thanks, contributing)    500\n",
       "18  (contributing, rgoodnews)    500\n",
       "19         (rgoodnews, enjoy)    500"
      ]
     },
     "execution_count": 21,
     "metadata": {},
     "output_type": "execute_result"
    }
   ],
   "source": [
    "freq_dist = compute_freq(n_corpus_string, 2)\n",
    "\n",
    "sort_freq(freq_dist)"
   ]
  },
  {
   "cell_type": "markdown",
   "id": "4a3fa21c",
   "metadata": {},
   "source": [
    "#### No stress trigrams:\n",
    "* Same problem as with the no stress bigrams but worse\n",
    "* The no stress trigrams really do not give any further useful information"
   ]
  },
  {
   "cell_type": "code",
   "execution_count": 22,
   "id": "d3478e65",
   "metadata": {},
   "outputs": [
    {
     "data": {
      "text/html": [
       "<div>\n",
       "<style scoped>\n",
       "    .dataframe tbody tr th:only-of-type {\n",
       "        vertical-align: middle;\n",
       "    }\n",
       "\n",
       "    .dataframe tbody tr th {\n",
       "        vertical-align: top;\n",
       "    }\n",
       "\n",
       "    .dataframe thead th {\n",
       "        text-align: right;\n",
       "    }\n",
       "</style>\n",
       "<table border=\"1\" class=\"dataframe\">\n",
       "  <thead>\n",
       "    <tr style=\"text-align: right;\">\n",
       "      <th></th>\n",
       "      <th>ngram</th>\n",
       "      <th>count</th>\n",
       "    </tr>\n",
       "  </thead>\n",
       "  <tbody>\n",
       "    <tr>\n",
       "      <th>0</th>\n",
       "      <td>(action, performed, please)</td>\n",
       "      <td>990</td>\n",
       "    </tr>\n",
       "    <tr>\n",
       "      <th>1</th>\n",
       "      <td>(thanks, contributing, rgoodnews)</td>\n",
       "      <td>500</td>\n",
       "    </tr>\n",
       "    <tr>\n",
       "      <th>2</th>\n",
       "      <td>(contributing, rgoodnews, enjoy)</td>\n",
       "      <td>500</td>\n",
       "    </tr>\n",
       "    <tr>\n",
       "      <th>3</th>\n",
       "      <td>(rgoodnews, enjoy, come)</td>\n",
       "      <td>500</td>\n",
       "    </tr>\n",
       "    <tr>\n",
       "      <th>4</th>\n",
       "      <td>(enjoy, come, us)</td>\n",
       "      <td>500</td>\n",
       "    </tr>\n",
       "    <tr>\n",
       "      <th>5</th>\n",
       "      <td>(come, us, rgoodnews)</td>\n",
       "      <td>500</td>\n",
       "    </tr>\n",
       "    <tr>\n",
       "      <th>6</th>\n",
       "      <td>(us, rgoodnews, server)</td>\n",
       "      <td>500</td>\n",
       "    </tr>\n",
       "    <tr>\n",
       "      <th>7</th>\n",
       "      <td>(rgoodnews, server, httpsdiscordggum5b3jm)</td>\n",
       "      <td>500</td>\n",
       "    </tr>\n",
       "    <tr>\n",
       "      <th>8</th>\n",
       "      <td>(server, httpsdiscordggum5b3jm, action)</td>\n",
       "      <td>500</td>\n",
       "    </tr>\n",
       "    <tr>\n",
       "      <th>9</th>\n",
       "      <td>(httpsdiscordggum5b3jm, action, performed)</td>\n",
       "      <td>500</td>\n",
       "    </tr>\n",
       "    <tr>\n",
       "      <th>10</th>\n",
       "      <td>(performed, please, subredditmessagecomposetor...</td>\n",
       "      <td>500</td>\n",
       "    </tr>\n",
       "    <tr>\n",
       "      <th>11</th>\n",
       "      <td>(please, subredditmessagecomposetorgoodnews, q...</td>\n",
       "      <td>500</td>\n",
       "    </tr>\n",
       "    <tr>\n",
       "      <th>12</th>\n",
       "      <td>(subredditmessagecomposetorgoodnews, questions...</td>\n",
       "      <td>500</td>\n",
       "    </tr>\n",
       "    <tr>\n",
       "      <th>13</th>\n",
       "      <td>(cant, think, anything)</td>\n",
       "      <td>495</td>\n",
       "    </tr>\n",
       "    <tr>\n",
       "      <th>14</th>\n",
       "      <td>(dont, know, dont)</td>\n",
       "      <td>495</td>\n",
       "    </tr>\n",
       "    <tr>\n",
       "      <th>15</th>\n",
       "      <td>(rhappy, support, people)</td>\n",
       "      <td>490</td>\n",
       "    </tr>\n",
       "    <tr>\n",
       "      <th>16</th>\n",
       "      <td>(support, people, endeavours)</td>\n",
       "      <td>490</td>\n",
       "    </tr>\n",
       "    <tr>\n",
       "      <th>17</th>\n",
       "      <td>(people, endeavours, place)</td>\n",
       "      <td>490</td>\n",
       "    </tr>\n",
       "    <tr>\n",
       "      <th>18</th>\n",
       "      <td>(endeavours, place, positivity)</td>\n",
       "      <td>490</td>\n",
       "    </tr>\n",
       "    <tr>\n",
       "      <th>19</th>\n",
       "      <td>(place, positivity, cant)</td>\n",
       "      <td>490</td>\n",
       "    </tr>\n",
       "  </tbody>\n",
       "</table>\n",
       "</div>"
      ],
      "text/plain": [
       "                                                ngram  count\n",
       "0                         (action, performed, please)    990\n",
       "1                   (thanks, contributing, rgoodnews)    500\n",
       "2                    (contributing, rgoodnews, enjoy)    500\n",
       "3                            (rgoodnews, enjoy, come)    500\n",
       "4                                   (enjoy, come, us)    500\n",
       "5                               (come, us, rgoodnews)    500\n",
       "6                             (us, rgoodnews, server)    500\n",
       "7          (rgoodnews, server, httpsdiscordggum5b3jm)    500\n",
       "8             (server, httpsdiscordggum5b3jm, action)    500\n",
       "9          (httpsdiscordggum5b3jm, action, performed)    500\n",
       "10  (performed, please, subredditmessagecomposetor...    500\n",
       "11  (please, subredditmessagecomposetorgoodnews, q...    500\n",
       "12  (subredditmessagecomposetorgoodnews, questions...    500\n",
       "13                            (cant, think, anything)    495\n",
       "14                                 (dont, know, dont)    495\n",
       "15                          (rhappy, support, people)    490\n",
       "16                      (support, people, endeavours)    490\n",
       "17                        (people, endeavours, place)    490\n",
       "18                    (endeavours, place, positivity)    490\n",
       "19                          (place, positivity, cant)    490"
      ]
     },
     "execution_count": 22,
     "metadata": {},
     "output_type": "execute_result"
    }
   ],
   "source": [
    "freq_dist = compute_freq(n_corpus_string, 3)\n",
    "\n",
    "sort_freq(freq_dist)"
   ]
  }
 ],
 "metadata": {
  "kernelspec": {
   "display_name": "Python 3 (ipykernel)",
   "language": "python",
   "name": "python3"
  },
  "language_info": {
   "codemirror_mode": {
    "name": "ipython",
    "version": 3
   },
   "file_extension": ".py",
   "mimetype": "text/x-python",
   "name": "python",
   "nbconvert_exporter": "python",
   "pygments_lexer": "ipython3",
   "version": "3.9.12"
  }
 },
 "nbformat": 4,
 "nbformat_minor": 5
}
